{
 "cells": [
  {
   "cell_type": "markdown",
   "metadata": {},
   "source": [
    "# s01: numpy\n",
    "<br>\n",
    "<br>\n",
    "<img src=\"img/numpy_logo.png\" width=\"200px\">\n",
    "<br>\n",
    "<br>\n",
    "\n",
    "This is a quick introduction to the Numpy package."
   ]
  },
  {
   "cell_type": "markdown",
   "metadata": {},
   "source": [
    "## Objectives of this session:\n",
    "\n",
    "- Understand the Numpy array object\n",
    "- Be able to use basic NumPy functionality\n",
    "- Understand enough of NumPy to seach for answers to the rest of your questions ;)\n",
    "\n",
    "So, we already know about python lists, and that we can put all kinds of things in there. But in scientific usage, lists are often not enough. They are slow and not very flexible."
   ]
  },
  {
   "cell_type": "code",
   "execution_count": 2,
   "metadata": {},
   "outputs": [],
   "source": [
    "# first things first, import the package\n",
    "import numpy as np"
   ]
  },
  {
   "cell_type": "markdown",
   "metadata": {},
   "source": [
    "## What is an array?\n",
    "\n",
    "For example, consider `[1, 2.5, 'asdf', False, [1.5, True]]` - this is a Python list but it has different types for every element. When you do math on this, every element has to be handled separately.\n",
    "\n",
    "NumPy is the most used library for scientific computing. Even if you are not using it directly, chances are high that some library uses it in the background. NumPy provides the high-performance multidimensional array object and tools to use it.\n",
    "\n",
    "An array is a ‘grid’ of values, with all the same types. It is indexed by tuples of non negative indices and provides the framework for multiple dimensions. An array has:\n",
    "\n",
    "- [dtype](https://numpy.org/doc/stable/reference/arrays.dtypes.html#arrays-dtypes) - data type. Arrays always contain one type\n",
    "- [shape](https://numpy.org/doc/stable/glossary.html#term-shape) - shape of the data, for example 3×2 or 3×2×500 or even 500 (one dimensional) or `[]` (zero dimensional).\n",
    "- `data` - raw data storage in memory. This can be passed to C or Fortran code for efficient calculations."
   ]
  },
  {
   "cell_type": "markdown",
   "metadata": {},
   "source": [
    "## Creating arrays\n",
    "\n",
    "There are different ways of creating arrays (numpy.array(), numpy.ndarray.shape, numpy.ndarray.size):"
   ]
  },
  {
   "cell_type": "code",
   "execution_count": null,
   "metadata": {},
   "outputs": [],
   "source": [
    "a = np.array([1,2,3])               # 1-dimensional array \n",
    "b = np.array([[1,2,3],[4,5,6]])     # 2-dimensional array \n",
    "\n",
    "b.shape                             # the shape (rows,columns)\n",
    "b.size                              # number of elements"
   ]
  },
  {
   "cell_type": "markdown",
   "metadata": {},
   "source": [
    "In addition to above ways of creating arrays, there are many other ways of creating arrays depending on content (`numpy.zeros()`, `numpy.ones()`, `numpy.arange()`, `numpy.linspace()`):"
   ]
  },
  {
   "cell_type": "code",
   "execution_count": null,
   "metadata": {},
   "outputs": [],
   "source": [
    "np.zeros((2, 3))             # 2x3 array with all elements 0\n",
    "np.ones((1,2))               # 1x2 array with all elements 1\n",
    "np.full((2,2),7)             # 2x2 array with all elements 7\n",
    "np.eye(2)                    # 2x2 identity matrix\n",
    "\n",
    "np.arange(10)                # Evenly spaced values in an interval\n",
    "np.linspace(0,9,10)          # same as above, see exercise\n",
    "\n",
    "c = np.ones((3,3))\n",
    "d = np.ones((3, 2), 'bool')  # 3x2 boolean array"
   ]
  },
  {
   "cell_type": "markdown",
   "metadata": {},
   "source": [
    "## Array maths and vectorization\n",
    "\n",
    "Clearly, you can do math on arrays. Math in NumPy is very fast because it is implemented in C or Fortran - just like most other high-level languages such as R, Matlab, etc do.\n",
    "\n",
    "By default, basic arithmetic (+, -, *, /) in NumPy is element-by-element. That is, the operation is performed for each element in the array without you having to write a loop. We say an operation is “vectorized” when the looping over elements is carried out by NumPy internally, which uses specialized CPU instructions for this that greatly outperform a regular Python loop.\n",
    "\n",
    "Note that unlike Matlab, where * means matrix multiplication, NumPy uses * to perform element-by-element multiplication and uses the @ symbol to perform matrix multiplication:"
   ]
  },
  {
   "cell_type": "code",
   "execution_count": 3,
   "metadata": {},
   "outputs": [
    {
     "name": "stdout",
     "output_type": "stream",
     "text": [
      "The mean of d is 9.0\n"
     ]
    }
   ],
   "source": [
    "a = np.array([[1,2],[3,4]])\n",
    "b = np.array([[5,6],[7,8]])\n",
    "\n",
    "# Addition\n",
    "c = a + b\n",
    "d = np.add(a,b)\n",
    "\n",
    "# Standard stats\n",
    "d_mean = d.mean()\n",
    "print(f\"The mean of d is {d_mean}\")\n"
   ]
  }
 ],
 "metadata": {
  "kernelspec": {
   "display_name": "Python 3.9.13 64-bit (windows store)",
   "language": "python",
   "name": "python3"
  },
  "language_info": {
   "codemirror_mode": {
    "name": "ipython",
    "version": 3
   },
   "file_extension": ".py",
   "mimetype": "text/x-python",
   "name": "python",
   "nbconvert_exporter": "python",
   "pygments_lexer": "ipython3",
   "version": "3.9.13"
  },
  "vscode": {
   "interpreter": {
    "hash": "23b4a3e8622309bcc6db3d5cc6eb73d60ab98d9ec23bad6a26b709981ccb403a"
   }
  }
 },
 "nbformat": 4,
 "nbformat_minor": 2
}
