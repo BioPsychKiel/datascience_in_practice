{
 "cells": [
  {
   "attachments": {},
   "cell_type": "markdown",
   "metadata": {},
   "source": [
    "# s03: Testing Distributions \n",
    "\n",
    "Knowing what distribution your data follow is important for knowing which statistical tests to apply to it. If you are using statistical tests that assume data to have a particular distribution, you need to test whether this is indeed the case.\n",
    "\n",
    "As we saw previously, different statistical distributions have different 'shapes'. But just looking at the shape isn't enough for saying definitively what distribution the data follows. Here, we will explore some statistical tests for checking the distribution of data. "
   ]
  },
  {
   "cell_type": "markdown",
   "metadata": {},
   "source": [
    "<div class=\"alert alert-success\">\n",
    "By 'testing distributions' we mean statistical tests that evaluate whether observed data follow a particular distribution.\n",
    "</div>"
   ]
  },
  {
   "cell_type": "code",
   "execution_count": 99,
   "metadata": {},
   "outputs": [],
   "source": [
    "# Imports\n",
    "%matplotlib inline\n",
    "\n",
    "import numpy as np\n",
    "import matplotlib.pyplot as plt\n",
    "\n",
    "import scipy.stats as stats\n",
    "from scipy.stats import normaltest"
   ]
  },
  {
   "cell_type": "code",
   "execution_count": 100,
   "metadata": {},
   "outputs": [],
   "source": [
    "# Set up a helper function for checking p-values against an alpha level, and printing result\n",
    "def check_p_val(p_val, alpha):\n",
    "\n",
    "    if p_val < alpha:\n",
    "        print('We have evidence to reject the null hypothesis.')\n",
    "    else:\n",
    "        print('We do not have evidence to reject the null hypothesis.')"
   ]
  },
  {
   "cell_type": "markdown",
   "metadata": {},
   "source": [
    "## Evaluating a Normal Distribution"
   ]
  },
  {
   "cell_type": "markdown",
   "metadata": {},
   "source": [
    "Here, we will focus on the most common case: testing whether a dataset is normally distributed. "
   ]
  },
  {
   "cell_type": "code",
   "execution_count": 101,
   "metadata": {},
   "outputs": [],
   "source": [
    "# Create a dataset of normally distributed data\n",
    "d1 = stats.norm.rvs(size=100000)"
   ]
  },
  {
   "cell_type": "code",
   "execution_count": 102,
   "metadata": {},
   "outputs": [
    {
     "data": {
      "image/png": "[encoded data removed]",
      "text/plain": [
       "<Figure size 432x288 with 1 Axes>"
      ]
     },
     "metadata": {
      "needs_background": "light"
     },
     "output_type": "display_data"
    }
   ],
   "source": [
    "# Plot a histogram of the observed data\n",
    "#  Included is expected distribution, if the data is normally distributed, with the same mean and std of the data. \n",
    "xs = np.arange(d1.min(), d1.max(), 0.1)\n",
    "fit = stats.norm.pdf(xs, np.mean(d1), np.std(d1))\n",
    "plt.plot(xs, fit, label='Normal Dist.', lw=3)\n",
    "plt.hist(d1, 50, density=True, label='Actual Data');\n",
    "plt.legend();"
   ]
  },
  {
   "cell_type": "markdown",
   "metadata": {},
   "source": [
    "The plot above shows a histogram (in orange) of 'observed' data, and the expected distribution of the data, under the assumption of it being normally distributed. There seems to be a pretty good alignment! Now, let's asses this statistically. \n",
    "\n",
    "To do so, we will use the `normaltest` function, from scipy, which tests whether a sample of data differs from a what would be expected under a normal distribution. The null hypothesis is that the data come from a normal distribution. We can use `normaltest` to check this null, and to decide whether we should reject the null (to claim the data are not normal), or accept it. To assess this, the `normaltest` function compares the skew and kurtosis of the observed data to what would be expected if it's normally distributed. "
   ]
  },
  {
   "cell_type": "code",
   "execution_count": 103,
   "metadata": {},
   "outputs": [
    {
     "name": "stdout",
     "output_type": "stream",
     "text": [
      "\u001b[1;31mSignature:\u001b[0m \u001b[0mnormaltest\u001b[0m\u001b[1;33m(\u001b[0m\u001b[0ma\u001b[0m\u001b[1;33m,\u001b[0m \u001b[0maxis\u001b[0m\u001b[1;33m=\u001b[0m\u001b[1;36m0\u001b[0m\u001b[1;33m,\u001b[0m \u001b[0mnan_policy\u001b[0m\u001b[1;33m=\u001b[0m\u001b[1;34m'propagate'\u001b[0m\u001b[1;33m)\u001b[0m\u001b[1;33m\u001b[0m\u001b[1;33m\u001b[0m\u001b[0m\n",
      "\u001b[1;31mDocstring:\u001b[0m\n",
      "Test whether a sample differs from a normal distribution.\n",
      "\n",
      "This function tests the null hypothesis that a sample comes\n",
      "from a normal distribution.  It is based on D'Agostino and\n",
      "Pearson's [1]_, [2]_ test that combines skew and kurtosis to\n",
      "produce an omnibus test of normality.\n",
      "\n",
      "Parameters\n",
      "----------\n",
      "a : array_like\n",
      "    The array containing the sample to be tested.\n",
      "axis : int or None, optional\n",
      "    Axis along which to compute test. Default is 0. If None,\n",
      "    compute over the whole array `a`.\n",
      "nan_policy : {'propagate', 'raise', 'omit'}, optional\n",
      "    Defines how to handle when input contains nan.\n",
      "    The following options are available (default is 'propagate'):\n",
      "\n",
      "      * 'propagate': returns nan\n",
      "      * 'raise': throws an error\n",
      "      * 'omit': performs the calculations ignoring nan values\n",
      "\n",
      "Returns\n",
      "-------\n",
      "statistic : float or array\n",
      "    ``s^2 + k^2``, where ``s`` is the z-score returned by `skewtest` and\n",
      "    ``k`` is the z-score returned by `kurtosistest`.\n",
      "pvalue : float or array\n",
      "   A 2-sided chi squared probability for the hypothesis test.\n",
      "\n",
      "References\n",
      "----------\n",
      ".. [1] D'Agostino, R. B. (1971), \"An omnibus test of normality for\n",
      "       moderate and large sample size\", Biometrika, 58, 341-348\n",
      "\n",
      ".. [2] D'Agostino, R. and Pearson, E. S. (1973), \"Tests for departure from\n",
      "       normality\", Biometrika, 60, 613-622\n",
      "\n",
      "Examples\n",
      "--------\n",
      ">>> from scipy import stats\n",
      ">>> rng = np.random.default_rng()\n",
      ">>> pts = 1000\n",
      ">>> a = rng.normal(0, 1, size=pts)\n",
      ">>> b = rng.normal(2, 1, size=pts)\n",
      ">>> x = np.concatenate((a, b))\n",
      ">>> k2, p = stats.normaltest(x)\n",
      ">>> alpha = 1e-3\n",
      ">>> print(\"p = {:g}\".format(p))\n",
      "p = 8.4713e-19\n",
      ">>> if p < alpha:  # null hypothesis: x comes from a normal distribution\n",
      "...     print(\"The null hypothesis can be rejected\")\n",
      "... else:\n",
      "...     print(\"The null hypothesis cannot be rejected\")\n",
      "The null hypothesis can be rejected\n",
      "\u001b[1;31mFile:\u001b[0m      c:\\users\\user\\appdata\\local\\packages\\pythonsoftwarefoundation.python.3.9_qbz5n2kfra8p0\\localcache\\local-packages\\python39\\site-packages\\scipy\\stats\\_stats_py.py\n",
      "\u001b[1;31mType:\u001b[0m      function\n"
     ]
    }
   ],
   "source": [
    "# Check the documentation for normaltest\n",
    "normaltest?"
   ]
  },
  {
   "cell_type": "code",
   "execution_count": 104,
   "metadata": {},
   "outputs": [],
   "source": [
    "# Run normal test on the data\n",
    "stat, p_val = normaltest(d1)"
   ]
  },
  {
   "cell_type": "code",
   "execution_count": 105,
   "metadata": {},
   "outputs": [
    {
     "name": "stdout",
     "output_type": "stream",
     "text": [
      "\n",
      "Normaltest p-value is: 0.31 \n",
      "\n",
      "We do not have evidence to reject the null hypothesis.\n"
     ]
    }
   ],
   "source": [
    "# Check the p-value of the normaltest\n",
    "print('\\nNormaltest p-value is: {:1.2f} \\n'.format(p_val))\n",
    "\n",
    "# With alpha value of 0.05, how should we proceed\n",
    "check_p_val(p_val, alpha=0.05)"
   ]
  },
  {
   "cell_type": "markdown",
   "metadata": {},
   "source": [
    "In this case, we do not reject the null, meaning we do not reject that this data is normally distributed. \n",
    "\n",
    "This statistical test is therefore consistent with the data being normally distributed. "
   ]
  },
  {
   "cell_type": "markdown",
   "metadata": {},
   "source": [
    "### Testing a non-Normal distribution\n",
    "\n",
    "Let's test another dataset for normality.\n",
    "\n",
    "For this example, we will explore case when visual inspection can be misleading, to emphasize the point that although visually inspecting datasets can give you a quick sense about whether they are normally distributed or not, this is not enough. Visual inspection can be somewhat misleading, since non-normally data can 'look normal'.\n",
    "\n",
    "This is why, as well as visually checking data when it looks pretty normal, it is important to perform other checks.\n",
    "\n",
    "For example, under some parameters, the Beta distributed data can look like it is normally distributed. "
   ]
  },
  {
   "cell_type": "code",
   "execution_count": 106,
   "metadata": {},
   "outputs": [],
   "source": [
    "# Generate some data from a beta distribution\n",
    "d2 = stats.beta.rvs(7, 10, size=100000)"
   ]
  },
  {
   "cell_type": "code",
   "execution_count": 107,
   "metadata": {},
   "outputs": [
    {
     "data": {
      "image/png": "[encoded data removed]",
      "text/plain": [
       "<Figure size 432x288 with 1 Axes>"
      ]
     },
     "metadata": {
      "needs_background": "light"
     },
     "output_type": "display_data"
    }
   ],
   "source": [
    "# Plot a histogram of the observed data\n",
    "plt.hist(d2, 50, density=True, color='C1', label='Actual Data');\n",
    "plt.legend();"
   ]
  },
  {
   "cell_type": "markdown",
   "metadata": {},
   "source": [
    "This data, as plotted above, we might think looks quite normal, based on the visualization. \n",
    "\n",
    "However, there are more specific checks that we can do. "
   ]
  },
  {
   "cell_type": "code",
   "execution_count": 108,
   "metadata": {},
   "outputs": [
    {
     "data": {
      "image/png": "[encoded data removed]",
      "text/plain": [
       "<Figure size 432x288 with 1 Axes>"
      ]
     },
     "metadata": {
      "needs_background": "light"
     },
     "output_type": "display_data"
    }
   ],
   "source": [
    "# Plot the data with with expected distribution, under the hypothesis that it is normally distributed. \n",
    "#  The blue line is the expected data density, with the same mean and standard deviation, if the data are normal. \n",
    "xs = np.arange(d2.min(), d2.max(), 0.01)\n",
    "fit = stats.norm.pdf(xs, np.mean(d2), np.std(d2))\n",
    "plt.plot(xs, fit, label='Normal Dist.', lw=3)\n",
    "plt.hist(d2, 50, density=True, label='Actual Data');\n",
    "plt.legend();"
   ]
  },
  {
   "cell_type": "markdown",
   "metadata": {},
   "source": [
    "In the above plot, we can see _some_ difference from the expected normal distribution. \n",
    "\n",
    "Overall, though, we might think it looks pretty normal, especially if examined without adding the probability density function. \n",
    "\n",
    "Let's check this statistically. "
   ]
  },
  {
   "cell_type": "code",
   "execution_count": 109,
   "metadata": {},
   "outputs": [],
   "source": [
    "# Run normal test on the data\n",
    "stat, p_val = normaltest(d2)"
   ]
  },
  {
   "cell_type": "code",
   "execution_count": 110,
   "metadata": {},
   "outputs": [
    {
     "name": "stdout",
     "output_type": "stream",
     "text": [
      "\n",
      "Normaltest p-value is: 1.23e-181 \n",
      "\n",
      "We have evidence to reject the null hypothesis.\n"
     ]
    }
   ],
   "source": [
    "# Check the p-value of the normaltest\n",
    "print('\\nNormaltest p-value is: {:1.2e} \\n'.format(p_val))\n",
    "\n",
    "# With alpha value of 0.05, how should we proceed\n",
    "check_p_val(p_val, alpha=0.05)"
   ]
  },
  {
   "cell_type": "markdown",
   "metadata": {},
   "source": [
    "In this example, the plot is ambiguous, but 'normaltest' suggests these data are actually very unlikely to come from a normal distribution. \n",
    "\n",
    "We happen to know that this is indeed true, as the 'ground truth' of the data is that they were generated from a beta distribution.\n",
    "\n",
    "Therefore, using this data in statistical tests that expect normally distributed inputs is invalid, since we have violated the assumptions upon which these tests are based. We will have to use different methods to perform statistical comparisons with these data."
   ]
  },
  {
   "cell_type": "markdown",
   "metadata": {},
   "source": [
    "## Evaluating Different Distributions\n",
    "\n",
    "So far we have examined checking whether a dataset is normally distributed.\n",
    "\n",
    "More generally, you can use the Kolmogorov-Smirnov test to check if a set of data has some other distribution (that you specify). \n",
    "\n",
    "This test is implemented in `scipy`, and you can explore using it. "
   ]
  },
  {
   "cell_type": "code",
   "execution_count": 111,
   "metadata": {},
   "outputs": [],
   "source": [
    "from scipy.stats import kstest"
   ]
  },
  {
   "cell_type": "code",
   "execution_count": 112,
   "metadata": {},
   "outputs": [
    {
     "name": "stdout",
     "output_type": "stream",
     "text": [
      "\u001b[1;31mSignature:\u001b[0m \u001b[0mkstest\u001b[0m\u001b[1;33m(\u001b[0m\u001b[0mrvs\u001b[0m\u001b[1;33m,\u001b[0m \u001b[0mcdf\u001b[0m\u001b[1;33m,\u001b[0m \u001b[0margs\u001b[0m\u001b[1;33m=\u001b[0m\u001b[1;33m(\u001b[0m\u001b[1;33m)\u001b[0m\u001b[1;33m,\u001b[0m \u001b[0mN\u001b[0m\u001b[1;33m=\u001b[0m\u001b[1;36m20\u001b[0m\u001b[1;33m,\u001b[0m \u001b[0malternative\u001b[0m\u001b[1;33m=\u001b[0m\u001b[1;34m'two-sided'\u001b[0m\u001b[1;33m,\u001b[0m \u001b[0mmode\u001b[0m\u001b[1;33m=\u001b[0m\u001b[1;34m'auto'\u001b[0m\u001b[1;33m)\u001b[0m\u001b[1;33m\u001b[0m\u001b[1;33m\u001b[0m\u001b[0m\n",
      "\u001b[1;31mDocstring:\u001b[0m\n",
      "Performs the (one-sample or two-sample) Kolmogorov-Smirnov test for\n",
      "goodness of fit.\n",
      "\n",
      "The one-sample test compares the underlying distribution F(x) of a sample\n",
      "against a given distribution G(x). The two-sample test compares the\n",
      "underlying distributions of two independent samples. Both tests are valid\n",
      "only for continuous distributions.\n",
      "\n",
      "Parameters\n",
      "----------\n",
      "rvs : str, array_like, or callable\n",
      "    If an array, it should be a 1-D array of observations of random\n",
      "    variables.\n",
      "    If a callable, it should be a function to generate random variables;\n",
      "    it is required to have a keyword argument `size`.\n",
      "    If a string, it should be the name of a distribution in `scipy.stats`,\n",
      "    which will be used to generate random variables.\n",
      "cdf : str, array_like or callable\n",
      "    If array_like, it should be a 1-D array of observations of random\n",
      "    variables, and the two-sample test is performed\n",
      "    (and rvs must be array_like).\n",
      "    If a callable, that callable is used to calculate the cdf.\n",
      "    If a string, it should be the name of a distribution in `scipy.stats`,\n",
      "    which will be used as the cdf function.\n",
      "args : tuple, sequence, optional\n",
      "    Distribution parameters, used if `rvs` or `cdf` are strings or\n",
      "    callables.\n",
      "N : int, optional\n",
      "    Sample size if `rvs` is string or callable.  Default is 20.\n",
      "alternative : {'two-sided', 'less', 'greater'}, optional\n",
      "    Defines the null and alternative hypotheses. Default is 'two-sided'.\n",
      "    Please see explanations in the Notes below.\n",
      "mode : {'auto', 'exact', 'approx', 'asymp'}, optional\n",
      "    Defines the distribution used for calculating the p-value.\n",
      "    The following options are available (default is 'auto'):\n",
      "\n",
      "      * 'auto' : selects one of the other options.\n",
      "      * 'exact' : uses the exact distribution of test statistic.\n",
      "      * 'approx' : approximates the two-sided probability with twice the\n",
      "        one-sided probability\n",
      "      * 'asymp': uses asymptotic distribution of test statistic\n",
      "\n",
      "Returns\n",
      "-------\n",
      "statistic : float\n",
      "    KS test statistic, either D, D+ or D-.\n",
      "pvalue :  float\n",
      "    One-tailed or two-tailed p-value.\n",
      "\n",
      "See Also\n",
      "--------\n",
      "ks_2samp\n",
      "\n",
      "Notes\n",
      "-----\n",
      "There are three options for the null and corresponding alternative\n",
      "hypothesis that can be selected using the `alternative` parameter.\n",
      "\n",
      "- `two-sided`: The null hypothesis is that the two distributions are\n",
      "  identical, F(x)=G(x) for all x; the alternative is that they are not\n",
      "  identical.\n",
      "\n",
      "- `less`: The null hypothesis is that F(x) >= G(x) for all x; the\n",
      "  alternative is that F(x) < G(x) for at least one x.\n",
      "\n",
      "- `greater`: The null hypothesis is that F(x) <= G(x) for all x; the\n",
      "  alternative is that F(x) > G(x) for at least one x.\n",
      "\n",
      "Note that the alternative hypotheses describe the *CDFs* of the\n",
      "underlying distributions, not the observed values. For example,\n",
      "suppose x1 ~ F and x2 ~ G. If F(x) > G(x) for all x, the values in\n",
      "x1 tend to be less than those in x2.\n",
      "\n",
      "\n",
      "Examples\n",
      "--------\n",
      ">>> from scipy import stats\n",
      ">>> rng = np.random.default_rng()\n",
      "\n",
      ">>> x = np.linspace(-15, 15, 9)\n",
      ">>> stats.kstest(x, 'norm')\n",
      "KstestResult(statistic=0.444356027159..., pvalue=0.038850140086...)\n",
      "\n",
      ">>> stats.kstest(stats.norm.rvs(size=100, random_state=rng), stats.norm.cdf)\n",
      "KstestResult(statistic=0.165471391799..., pvalue=0.007331283245...)\n",
      "\n",
      "The above lines are equivalent to:\n",
      "\n",
      ">>> stats.kstest(stats.norm.rvs, 'norm', N=100)\n",
      "KstestResult(statistic=0.113810164200..., pvalue=0.138690052319...)  # may vary\n",
      "\n",
      "*Test against one-sided alternative hypothesis*\n",
      "\n",
      "Shift distribution to larger values, so that ``CDF(x) < norm.cdf(x)``:\n",
      "\n",
      ">>> x = stats.norm.rvs(loc=0.2, size=100, random_state=rng)\n",
      ">>> stats.kstest(x, 'norm', alternative='less')\n",
      "KstestResult(statistic=0.1002033514..., pvalue=0.1255446444...)\n",
      "\n",
      "Reject null hypothesis in favor of alternative hypothesis: less\n",
      "\n",
      ">>> stats.kstest(x, 'norm', alternative='greater')\n",
      "KstestResult(statistic=0.018749806388..., pvalue=0.920581859791...)\n",
      "\n",
      "Don't reject null hypothesis in favor of alternative hypothesis: greater\n",
      "\n",
      ">>> stats.kstest(x, 'norm')\n",
      "KstestResult(statistic=0.100203351482..., pvalue=0.250616879765...)\n",
      "\n",
      "*Testing t distributed random variables against normal distribution*\n",
      "\n",
      "With 100 degrees of freedom the t distribution looks close to the normal\n",
      "distribution, and the K-S test does not reject the hypothesis that the\n",
      "sample came from the normal distribution:\n",
      "\n",
      ">>> stats.kstest(stats.t.rvs(100, size=100, random_state=rng), 'norm')\n",
      "KstestResult(statistic=0.064273776544..., pvalue=0.778737758305...)\n",
      "\n",
      "With 3 degrees of freedom the t distribution looks sufficiently different\n",
      "from the normal distribution, that we can reject the hypothesis that the\n",
      "sample came from the normal distribution at the 10% level:\n",
      "\n",
      ">>> stats.kstest(stats.t.rvs(3, size=100, random_state=rng), 'norm')\n",
      "KstestResult(statistic=0.128678487493..., pvalue=0.066569081515...)\n",
      "\u001b[1;31mFile:\u001b[0m      c:\\users\\user\\appdata\\local\\packages\\pythonsoftwarefoundation.python.3.9_qbz5n2kfra8p0\\localcache\\local-packages\\python39\\site-packages\\scipy\\stats\\_stats_py.py\n",
      "\u001b[1;31mType:\u001b[0m      function\n"
     ]
    }
   ],
   "source": [
    "# Check out the documentation for kstest\n",
    "kstest?"
   ]
  },
  {
   "cell_type": "markdown",
   "metadata": {},
   "source": [
    "The `kstest` has a similar form to the `normaltest`, in that we can compare a sample of data to a specified distribution. \n",
    "\n",
    "The null hypothesis is that the data comes from the specified distribution. \n",
    "\n",
    "If we reject the null, we can conclude that the data do not conform to the tested distribution."
   ]
  },
  {
   "cell_type": "code",
   "execution_count": 113,
   "metadata": {},
   "outputs": [
    {
     "name": "stdout",
     "output_type": "stream",
     "text": [
      "Statistic: \t0.56 \n",
      "P-Value: \t0.00e+00\n",
      "\n",
      "We have evidence to reject the null hypothesis.\n"
     ]
    }
   ],
   "source": [
    "# Let's continue using our data from above, from the beta distribution. \n",
    "#   We can confirm kstest considers it not normally distributed  \n",
    "stat, p_val = kstest(d2, 'norm')\n",
    "print('Statistic: \\t{:1.2f} \\nP-Value: \\t{:1.2e}\\n'.format(stat, p_val))\n",
    "check_p_val(p_val, alpha=0.05)"
   ]
  },
  {
   "cell_type": "code",
   "execution_count": 114,
   "metadata": {},
   "outputs": [
    {
     "name": "stdout",
     "output_type": "stream",
     "text": [
      "Statistic: \t0.00 \n",
      "P-Value: \t1.66e-01\n",
      "\n",
      "We do not have evidence to reject the null hypothesis.\n"
     ]
    }
   ],
   "source": [
    "# Now compare the data to the beta distribution.\n",
    "#   Note that in this case, we have to specify some parameters for the beta \n",
    "#   distribution we are testing against, so we will use the simulation parameters\n",
    "stat, p_val = kstest(d2, 'beta', [7, 10])\n",
    "print('Statistic: \\t{:1.2f} \\nP-Value: \\t{:1.2e}\\n'.format(stat, p_val))\n",
    "check_p_val(p_val, alpha=0.05)"
   ]
  },
  {
   "cell_type": "markdown",
   "metadata": {},
   "source": [
    "In this case, the data sample is consistent with being from a beta distribution!"
   ]
  },
  {
   "attachments": {},
   "cell_type": "markdown",
   "metadata": {},
   "source": [
    "## Exercise\n",
    "Load a dataset which contains running times from a marathon running contest."
   ]
  },
  {
   "cell_type": "code",
   "execution_count": 115,
   "metadata": {},
   "outputs": [],
   "source": [
    "import pandas as pd\n",
    "import seaborn as sns\n",
    "\n",
    "df = sns.load_dataset('iris')"
   ]
  },
  {
   "cell_type": "code",
   "execution_count": 116,
   "metadata": {},
   "outputs": [
    {
     "data": {
      "text/plain": [
       "sepal_length    float64\n",
       "sepal_width     float64\n",
       "petal_length    float64\n",
       "petal_width     float64\n",
       "species          object\n",
       "dtype: object"
      ]
     },
     "execution_count": 116,
     "metadata": {},
     "output_type": "execute_result"
    }
   ],
   "source": [
    "df.dtypes"
   ]
  },
  {
   "attachments": {},
   "cell_type": "markdown",
   "metadata": {},
   "source": [
    "<div class=\"alert alert-danger\">\n",
    "Task 3.1: Write a function that plots two data vectors as histograms (e.g. `df[\"sepal_length\"]` and `df[\"sepal_width\"]`) and tests for normal distribution of the two. If one of the data vectors is not normally distributed, the function should not do any plotting, but print an error statement (2 points).\n",
    "<p> </p>\n",
    "</div>"
   ]
  },
  {
   "attachments": {},
   "cell_type": "markdown",
   "metadata": {},
   "source": [
    "<div class=\"alert alert-danger\">\n",
    "Task 3.2: Write a function that automatically checks ALL numeric columns from the `df` for normal distribution and prints the result (1 point).\n",
    "<p> </p>\n",
    "</div>"
   ]
  }
 ],
 "metadata": {
  "kernelspec": {
   "display_name": "Python 3.9.13 64-bit (windows store)",
   "language": "python",
   "name": "python3"
  },
  "language_info": {
   "codemirror_mode": {
    "name": "ipython",
    "version": 3
   },
   "file_extension": ".py",
   "mimetype": "text/x-python",
   "name": "python",
   "nbconvert_exporter": "python",
   "pygments_lexer": "ipython3",
   "version": "3.9.13"
  },
  "vscode": {
   "interpreter": {
    "hash": "23b4a3e8622309bcc6db3d5cc6eb73d60ab98d9ec23bad6a26b709981ccb403a"
   }
  }
 },
 "nbformat": 4,
 "nbformat_minor": 2
}
