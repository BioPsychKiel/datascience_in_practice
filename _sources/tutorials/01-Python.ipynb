{
 "cells": [
  {
   "cell_type": "markdown",
   "metadata": {},
   "source": [
    "# Python"
   ]
  },
  {
   "cell_type": "markdown",
   "metadata": {
    "collapsed": true
   },
   "source": [
    "<br>\n",
    "<br>\n",
    "<img src=\"img/python.png\" width=\"400px\">\n",
    "<br>\n",
    "<br>"
   ]
  },
  {
   "cell_type": "markdown",
   "metadata": {
    "collapsed": true
   },
   "source": [
    "<div class=\"alert alert-success\"> \n",
    "Python is an \n",
    "<a href=https://en.wikipedia.org/wiki/Open-source_model class=\"alert-link\">open-source</a>, \n",
    "<a href=https://en.wikipedia.org/wiki/High-level_programming_language class=\"alert-link\">high-level </a>, \n",
    "<a href=https://en.wikipedia.org/wiki/General-purpose_programming_language class=\"alert-link\">general purpose</a>, \n",
    "<a href=https://en.wikipedia.org/wiki/Interpreted_language class=\"alert-link\">interpreted</a>, \n",
    "<a href=https://en.wikipedia.org/wiki/Programming_language class=\"alert-link\">programming language</a>, \n",
    "one of the most popular for data science applications. \n",
    "</div>\n",
    "\n",
    "<div class=\"alert alert-info\">\n",
    "The official Python\n",
    "<a href=https://www.python.org class=\"alert-link\">website</a>.\n",
    "</div>"
   ]
  },
  {
   "cell_type": "markdown",
   "metadata": {},
   "source": [
    "## Why Python\n",
    "\n",
    "- Python is not the best language at eveything but it is second best of everything. It supports a wide range of tasks and has a decent library of base and community projects.\n",
    "    - This is useful. A data science project may include everything from scraping data from the web, analyzing a mixture or text and numerical data, computing features, training a model, creating high-quality graphs, and then hosting a website with your results. \n",
    "- Python is heavily used in industry\n"
   ]
  },
  {
   "cell_type": "markdown",
   "metadata": {},
   "source": [
    "## Python Versions\n",
    "\n",
    "This class uses Python3, the currently developed version of Python, and more specifically Python version 3.6 or above. \n",
    "\n",
    "Python2 has reached \"End of Life\" meaning it is no longer supported or maintained by the Python Organization. "
   ]
  },
  {
   "cell_type": "markdown",
   "metadata": {},
   "source": [
    "## Python Resources\n",
    "\n",
    "These materials presume prior knowledge of the Python programming language. \n",
    "\n",
    "If you are note yet familiar, here are some entry level materials for learning Python:\n",
    "\n",
    "- [Codecademy](https://www.codecademy.com/tracks/python) is good for a beginner's introduction to the language.\n",
    "- [The Official Beginners Guide](https://wiki.python.org/moin/BeginnersGuide) is supported by the Python organization.\n",
    "- [Whirlwind Tour of Python](https://github.com/jakevdp/WhirlwindTourOfPython) is a free collection of Jupyter notebooks that takes you through Python. \n",
    "    - This book is especially good (and specifically designed for) if you have some experience with programming in some other language, and want to quickly run through the specifics of Python."
   ]
  },
  {
   "cell_type": "markdown",
   "metadata": {},
   "source": [
    "<div class=\"alert alert-info\">\n",
    "A much broader list of resources and guides for learning Python is available \n",
    "<a href=https://github.com/openlists/PythonResources class=\"alert-link\">here</a>.\n",
    "</div>"
   ]
  },
  {
   "cell_type": "markdown",
   "metadata": {},
   "source": [
    "## Getting Un-Stuck\n",
    "\n",
    "At some point, you will get stuck. It happens. The internet is your friend. \n",
    "\n",
    "If you get an error, or aren't sure how to proceed, use {your favourite search engine} with specific search terms relating to what you are trying to do. Sometimes this just means searching the error that you got.\n",
    "\n",
    "Your are likely to find responses on [StackOverflow](https://stackoverflow.com) - which is basically a forum for programming questions, and a good place to find answers. "
   ]
  },
  {
   "cell_type": "markdown",
   "metadata": {},
   "source": [
    "## Standard Library"
   ]
  },
  {
   "cell_type": "markdown",
   "metadata": {},
   "source": [
    "<div class=\"alert alert-success\"> \n",
    "The Standard Library refers to everything in Python that is part of standard version and install of Python.\n",
    "</div>"
   ]
  },
  {
   "cell_type": "markdown",
   "metadata": {},
   "source": [
    "<div class=\"alert alert-info\"> \n",
    "The Python \n",
    "<a href=https://docs.python.org/3/library/ class=\"alert-link\">Standard Library</a>\n",
    "comes with a lot of basic functionality. \n",
    "</div>"
   ]
  },
  {
   "cell_type": "markdown",
   "metadata": {},
   "source": [
    "Part of what makes Python a powerful language is the standard library itself, which is a rich set of tools for programming. However, the standard library itself does not include data science tools, and a lot of the power of Python stems for a rich ecosystem of packages that can be added and used with Python. "
   ]
  },
  {
   "cell_type": "markdown",
   "metadata": {},
   "source": [
    "## Packages"
   ]
  },
  {
   "cell_type": "markdown",
   "metadata": {},
   "source": [
    "<div class=\"alert alert-success\"> \n",
    "Packages are collections of code. Packages from outside the standard library can be installed and added to Python.\n",
    "</div>\n",
    "\n",
    "<div class=\"alert alert-info\"> \n",
    "For managing and installing packages, Anaconda comes with the \n",
    "<a href=\"https://conda.io/docs/using/pkgs.html\" class=\"alert-link\">conda</a>\n",
    "package manager.\n",
    "</div>"
   ]
  },
  {
   "cell_type": "markdown",
   "metadata": {},
   "source": [
    "## Scientific Python\n",
    "\n",
    "When we say that Python is good for data science, and scientific computing, what we really mean is that there is a rich ecosystem of available open-source external packages, that greatly expand the capacities of the language beyond the standard library. \n",
    "\n",
    "This set of packages, which we will introduce as we go through these materials, is sometimes referred to as 'Scientific Python', or the 'Scipy' ecosystem. \n",
    "\n",
    "For the purposes of these materials, the Anaconda distribution that we are using contains all the packages you need. "
   ]
  },
  {
   "cell_type": "markdown",
   "metadata": {},
   "source": [
    "## Environments"
   ]
  },
  {
   "cell_type": "markdown",
   "metadata": {},
   "source": [
    "<div class=\"alert alert-success\">\n",
    "Environments are isolated, independent installations of a programming language and groups of packages, that don't interfere with each other. \n",
    "</div>\n",
    "\n",
    "<div class=\"alert alert-info\">\n",
    "Patrick J Mineault wrote a greate resource how to use virtual enviroments in data science \n",
    "<a href=\"https://goodresearch.dev/setup.html#set-up-a-virtual-environment\" class=\"alert-link\">here</a>.\n",
    "</div>"
   ]
  }
 ],
 "metadata": {
  "anaconda-cloud": {},
  "kernelspec": {
   "display_name": "Python 3.9.13 64-bit (windows store)",
   "language": "python",
   "name": "python3"
  },
  "language_info": {
   "codemirror_mode": {
    "name": "ipython",
    "version": 3
   },
   "file_extension": ".py",
   "mimetype": "text/x-python",
   "name": "python",
   "nbconvert_exporter": "python",
   "pygments_lexer": "ipython3",
   "version": "3.9.13"
  },
  "vscode": {
   "interpreter": {
    "hash": "23b4a3e8622309bcc6db3d5cc6eb73d60ab98d9ec23bad6a26b709981ccb403a"
   }
  }
 },
 "nbformat": 4,
 "nbformat_minor": 1
}
