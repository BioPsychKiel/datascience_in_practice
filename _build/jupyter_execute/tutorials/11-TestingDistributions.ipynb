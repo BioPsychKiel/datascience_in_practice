{
 "cells": [
  {
   "cell_type": "markdown",
   "metadata": {},
   "source": [
    "# Testing Distributions \n",
    "\n",
    "Knowing what distribution your data follow is important for knowing which statistical tests to apply to it. If you are using statistical tests that assume data to have a particular distribution, you need to test whether this is indeed the case.\n",
    "\n",
    "As we saw previously, different statistical distributions have different 'shapes'. But just looking at the shape isn't enough for saying definitively what distribution the data follows. Here, we will explore some statistical tests for checking the distribution of data. "
   ]
  },
  {
   "cell_type": "markdown",
   "metadata": {},
   "source": [
    "<div class=\"alert alert-success\">\n",
    "By 'testing distributions' we mean statistical tests that evaluate whether observed data follow a particular distribution.\n",
    "</div>"
   ]
  },
  {
   "cell_type": "code",
   "execution_count": 1,
   "metadata": {},
   "outputs": [],
   "source": [
    "# Imports\n",
    "%matplotlib inline\n",
    "\n",
    "import numpy as np\n",
    "import matplotlib.pyplot as plt\n",
    "\n",
    "import scipy.stats as stats\n",
    "from scipy.stats import normaltest"
   ]
  },
  {
   "cell_type": "code",
   "execution_count": 2,
   "metadata": {},
   "outputs": [],
   "source": [
    "# Set up a helper function for checking p-values against an alpha level, and printing result\n",
    "def check_p_val(p_val, alpha):\n",
    "\n",
    "    if p_val < alpha:\n",
    "        print('We have evidence to reject the null hypothesis.')\n",
    "    else:\n",
    "        print('We do not have evidence to reject the null hypothesis.')"
   ]
  },
  {
   "cell_type": "markdown",
   "metadata": {},
   "source": [
    "## Evaluating a Normal Distribution"
   ]
  },
  {
   "cell_type": "markdown",
   "metadata": {},
   "source": [
    "Here, we will focus on the most common case: testing whether a dataset is normally distributed. "
   ]
  },
  {
   "cell_type": "code",
   "execution_count": 3,
   "metadata": {},
   "outputs": [],
   "source": [
    "# Create a dataset of normally distributed data\n",
    "d1 = stats.norm.rvs(size=100000)"
   ]
  },
  {
   "cell_type": "code",
   "execution_count": 4,
   "metadata": {},
   "outputs": [
    {
     "data": {
      "image/png": "[encoded data removed]",
      "text/plain": [
       "<Figure size 432x288 with 1 Axes>"
      ]
     },
     "metadata": {
      "filenames": {
       "image/png": "C:\\Users\\User\\Desktop\\kiel\\datasciencebook\\_build\\jupyter_execute\\tutorials\\11-TestingDistributions_7_0.png"
      },
      "needs_background": "light"
     },
     "output_type": "display_data"
    }
   ],
   "source": [
    "# Plot a histogram of the observed data\n",
    "#  Included is expected distribution, if the data is normally distributed, with the same mean and std of the data. \n",
    "xs = np.arange(d1.min(), d1.max(), 0.1)\n",
    "fit = stats.norm.pdf(xs, np.mean(d1), np.std(d1))\n",
    "plt.plot(xs, fit, label='Normal Dist.', lw=3)\n",
    "plt.hist(d1, 50, density=True, label='Actual Data');\n",
    "plt.legend();"
   ]
  },
  {
   "cell_type": "markdown",
   "metadata": {},
   "source": [
    "The plot above shows a histogram (in orange) of 'observed' data, and the expected distribution of the data, under the assumption of it being normally distributed. There seems to be a pretty good alignment! Now, let's asses this statistically. \n",
    "\n",
    "To do so, we will use the `normaltest` function, from scipy, which tests whether a sample of data differs from a what would be expected under a normal distribution. The null hypothesis is that the data come from a normal distribution. We can use `normaltest` to check this null, and to decide whether we should reject the null (to claim the data are not normal), or accept it. To assess this, the `normaltest` function compares the skew and kurtosis of the observed data to what would be expected if it's normally distributed. "
   ]
  },
  {
   "cell_type": "code",
   "execution_count": 5,
   "metadata": {},
   "outputs": [],
   "source": [
    "# Check the documentation for normaltest\n",
    "normaltest?"
   ]
  },
  {
   "cell_type": "code",
   "execution_count": 6,
   "metadata": {},
   "outputs": [],
   "source": [
    "# Run normal test on the data\n",
    "stat, p_val = normaltest(d1)"
   ]
  },
  {
   "cell_type": "code",
   "execution_count": 7,
   "metadata": {},
   "outputs": [
    {
     "name": "stdout",
     "output_type": "stream",
     "text": [
      "\n",
      "Normaltest p-value is: 0.82 \n",
      "\n",
      "We do not have evidence to reject the null hypothesis.\n"
     ]
    }
   ],
   "source": [
    "# Check the p-value of the normaltest\n",
    "print('\\nNormaltest p-value is: {:1.2f} \\n'.format(p_val))\n",
    "\n",
    "# With alpha value of 0.05, how should we proceed\n",
    "check_p_val(p_val, alpha=0.05)"
   ]
  },
  {
   "cell_type": "markdown",
   "metadata": {},
   "source": [
    "In this case, we do not reject the null, meaning we do not reject that this data is normally distributed. \n",
    "\n",
    "This statistical test is therefore consistent with the data being normally distributed. "
   ]
  },
  {
   "cell_type": "markdown",
   "metadata": {},
   "source": [
    "### Testing a non-Normal distribution\n",
    "\n",
    "Let's test another dataset for normality.\n",
    "\n",
    "For this example, we will explore case when visual inspection can be misleading, to emphasize the point that although visually inspecting datasets can give you a quick sense about whether they are normally distributed or not, this is not enough. Visual inspection can be somewhat misleading, since non-normally data can 'look normal'.\n",
    "\n",
    "This is why, as well as visually checking data when it looks pretty normal, it is important to perform other checks.\n",
    "\n",
    "For example, under some parameters, the Beta distributed data can look like it is normally distributed. "
   ]
  },
  {
   "cell_type": "code",
   "execution_count": 8,
   "metadata": {},
   "outputs": [],
   "source": [
    "# Generate some data from a beta distribution\n",
    "d2 = stats.beta.rvs(7, 10, size=100000)"
   ]
  },
  {
   "cell_type": "code",
   "execution_count": 9,
   "metadata": {},
   "outputs": [
    {
     "data": {
      "image/png": "[encoded data removed]",
      "text/plain": [
       "<Figure size 432x288 with 1 Axes>"
      ]
     },
     "metadata": {
      "filenames": {
       "image/png": "C:\\Users\\User\\Desktop\\kiel\\datasciencebook\\_build\\jupyter_execute\\tutorials\\11-TestingDistributions_15_0.png"
      },
      "needs_background": "light"
     },
     "output_type": "display_data"
    }
   ],
   "source": [
    "# Plot a histogram of the observed data\n",
    "plt.hist(d2, 50, density=True, color='C1', label='Actual Data');\n",
    "plt.legend();"
   ]
  },
  {
   "cell_type": "markdown",
   "metadata": {},
   "source": [
    "This data, as plotted above, we might think looks quite normal, based on the visualization. \n",
    "\n",
    "However, there are more specific checks that we can do. "
   ]
  },
  {
   "cell_type": "code",
   "execution_count": 10,
   "metadata": {},
   "outputs": [
    {
     "data": {
      "image/png": "[encoded data removed]",
      "text/plain": [
       "<Figure size 432x288 with 1 Axes>"
      ]
     },
     "metadata": {
      "filenames": {
       "image/png": "C:\\Users\\User\\Desktop\\kiel\\datasciencebook\\_build\\jupyter_execute\\tutorials\\11-TestingDistributions_17_0.png"
      },
      "needs_background": "light"
     },
     "output_type": "display_data"
    }
   ],
   "source": [
    "# Plot the data with with expected distribution, under the hypothesis that it is normally distributed. \n",
    "#  The blue line is the expected data density, with the same mean and standard deviation, if the data are normal. \n",
    "xs = np.arange(d2.min(), d2.max(), 0.01)\n",
    "fit = stats.norm.pdf(xs, np.mean(d2), np.std(d2))\n",
    "plt.plot(xs, fit, label='Normal Dist.', lw=3)\n",
    "plt.hist(d2, 50, density=True, label='Actual Data');\n",
    "plt.legend();"
   ]
  },
  {
   "cell_type": "markdown",
   "metadata": {},
   "source": [
    "In the above plot, we can see _some_ difference from the expected normal distribution. \n",
    "\n",
    "Overall, though, we might think it looks pretty normal, especially if examined without adding the probability density function. \n",
    "\n",
    "Let's check this statistically. "
   ]
  },
  {
   "cell_type": "code",
   "execution_count": 11,
   "metadata": {},
   "outputs": [],
   "source": [
    "# Run normal test on the data\n",
    "stat, p_val = normaltest(d2)"
   ]
  },
  {
   "cell_type": "code",
   "execution_count": 12,
   "metadata": {},
   "outputs": [
    {
     "name": "stdout",
     "output_type": "stream",
     "text": [
      "\n",
      "Normaltest p-value is: 2.60e-179 \n",
      "\n",
      "We have evidence to reject the null hypothesis.\n"
     ]
    }
   ],
   "source": [
    "# Check the p-value of the normaltest\n",
    "print('\\nNormaltest p-value is: {:1.2e} \\n'.format(p_val))\n",
    "\n",
    "# With alpha value of 0.05, how should we proceed\n",
    "check_p_val(p_val, alpha=0.05)"
   ]
  },
  {
   "cell_type": "markdown",
   "metadata": {},
   "source": [
    "In this example, the plot is ambiguous, but 'normaltest' suggests these data are actually very unlikely to come from a normal distribution. \n",
    "\n",
    "We happen to know that this is indeed true, as the 'ground truth' of the data is that they were generated from a beta distribution.\n",
    "\n",
    "Therefore, using this data in statistical tests that expect normally distributed inputs is invalid, since we have violated the assumptions upon which these tests are based. We will have to use different methods to perform statistical comparisons with these data."
   ]
  },
  {
   "cell_type": "markdown",
   "metadata": {},
   "source": [
    "## Evaluating Different Distributions\n",
    "\n",
    "So far we have examined checking whether a dataset is normally distributed.\n",
    "\n",
    "More generally, you can use the Kolmogorov-Smirnov test to check if a set of data has some other distribution (that you specify). \n",
    "\n",
    "This test is implemented in `scipy`, and you can explore using it. "
   ]
  },
  {
   "cell_type": "code",
   "execution_count": 13,
   "metadata": {},
   "outputs": [],
   "source": [
    "from scipy.stats import kstest"
   ]
  },
  {
   "cell_type": "code",
   "execution_count": 14,
   "metadata": {},
   "outputs": [],
   "source": [
    "# Check out the documentation for kstest\n",
    "kstest?"
   ]
  },
  {
   "cell_type": "markdown",
   "metadata": {},
   "source": [
    "The `kstest` has a similar form to the `normaltest`, in that we can compare a sample of data to a specified distribution. \n",
    "\n",
    "The null hypothesis is that the data comes from the specified distribution. \n",
    "\n",
    "If we reject the null, we can conclude that the data do not conform to the tested distribution."
   ]
  },
  {
   "cell_type": "code",
   "execution_count": 15,
   "metadata": {},
   "outputs": [
    {
     "name": "stdout",
     "output_type": "stream",
     "text": [
      "Statistic: \t0.56 \n",
      "P-Value: \t0.00e+00\n",
      "\n",
      "We have evidence to reject the null hypothesis.\n"
     ]
    }
   ],
   "source": [
    "# Let's continue using our data from above, from the beta distribution. \n",
    "#   We can confirm kstest considers it not normally distributed  \n",
    "stat, p_val = kstest(d2, 'norm')\n",
    "print('Statistic: \\t{:1.2f} \\nP-Value: \\t{:1.2e}\\n'.format(stat, p_val))\n",
    "check_p_val(p_val, alpha=0.05)"
   ]
  },
  {
   "cell_type": "code",
   "execution_count": 16,
   "metadata": {},
   "outputs": [
    {
     "name": "stdout",
     "output_type": "stream",
     "text": [
      "Statistic: \t0.00 \n",
      "P-Value: \t4.35e-01\n",
      "\n",
      "We do not have evidence to reject the null hypothesis.\n"
     ]
    }
   ],
   "source": [
    "# Now compare the data to the beta distribution.\n",
    "#   Note that in this case, we have to specify some parameters for the beta \n",
    "#   distribution we are testing against, so we will use the simulation parameters\n",
    "stat, p_val = kstest(d2, 'beta', [7, 10])\n",
    "print('Statistic: \\t{:1.2f} \\nP-Value: \\t{:1.2e}\\n'.format(stat, p_val))\n",
    "check_p_val(p_val, alpha=0.05)"
   ]
  },
  {
   "cell_type": "markdown",
   "metadata": {},
   "source": [
    "In this case, the data sample is consistent with being from a beta distribution!"
   ]
  }
 ],
 "metadata": {
  "kernelspec": {
   "display_name": "Python 3",
   "language": "python",
   "name": "python3"
  },
  "language_info": {
   "codemirror_mode": {
    "name": "ipython",
    "version": 3
   },
   "file_extension": ".py",
   "mimetype": "text/x-python",
   "name": "python",
   "nbconvert_exporter": "python",
   "pygments_lexer": "ipython3",
   "version": "3.8.13"
  }
 },
 "nbformat": 4,
 "nbformat_minor": 2
}