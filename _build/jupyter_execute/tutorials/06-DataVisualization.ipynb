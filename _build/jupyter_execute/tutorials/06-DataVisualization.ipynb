{
 "cells": [
  {
   "cell_type": "markdown",
   "metadata": {},
   "source": [
    "# s03: Data Visualization\n",
    "\n",
    "Data Visualization can refer to a lot of different things. Here, we will start with making static 2D visualizations of data.\n",
    "\n",
    "To do so, we will use the `matplotlib` package. Matplotlib is a large and well supported package that forms the basis of a lot of plotting in Python."
   ]
  },
  {
   "cell_type": "markdown",
   "metadata": {},
   "source": [
    "<div class=\"alert alert-success\">\n",
    "Data Visualization is a way to 'see' your data, for data exploration and data communication.\n",
    "</div>\n",
    "\n",
    "<div class=\"alert alert-info\">\n",
    "Check out the matplotlib\n",
    "<a href=\"https://matplotlib.org/\" class=\"alert-link\">website</a>,\n",
    "including their introductory \n",
    "<a href=\"http://matplotlib.org/users/beginner.html\" class=\"alert-link\">tutorial</a>,\n",
    "and gallery of \n",
    "<a href=\"https://matplotlib.org/gallery/index.html\" class=\"alert-link\">examples</a>.\n",
    "</div>"
   ]
  },
  {
   "cell_type": "code",
   "execution_count": 1,
   "metadata": {},
   "outputs": [],
   "source": [
    "# Import matplotlib - the main python plotting package\n",
    "import matplotlib.pyplot as plt\n",
    "\n",
    "# Import numpy functions for generating test data to plot\n",
    "import numpy as np\n",
    "from numpy.random import rand\n"
   ]
  },
  {
   "cell_type": "markdown",
   "metadata": {},
   "source": [
    "## Exercise\n",
    "How many points to you count in the graph?"
   ]
  },
  {
   "cell_type": "code",
   "execution_count": 2,
   "metadata": {},
   "outputs": [
    {
     "data": {
      "text/plain": [
       "(-1.0, 9.0)"
      ]
     },
     "execution_count": 2,
     "metadata": {},
     "output_type": "execute_result"
    },
    {
     "data": {
      "image/png": "[encoded data removed]",
      "text/plain": [
       "<Figure size 432x288 with 1 Axes>"
      ]
     },
     "metadata": {
      "filenames": {
       "image/png": "C:\\Users\\User\\Desktop\\kiel\\datasciencebook\\_build\\jupyter_execute\\tutorials\\06-DataVisualization_4_1.png"
      },
      "needs_background": "light"
     },
     "output_type": "display_data"
    }
   ],
   "source": [
    "\n",
    "val_x = np.array([1,1,1,1,2,2,3,3,3,3,4,4,5,5,5,5])\n",
    "val_y = np.array([1,3,5,7,2,6,1,3,5,7,2,6,1,3,5,7])\n",
    "\n",
    "plt.plot(val_x,val_y,'o', markersize=15, color='#f2cc84')\n",
    "plt.axis(\"off\")\n",
    "plt.xlim([-1,7])\n",
    "plt.ylim([-1,9])"
   ]
  },
  {
   "cell_type": "markdown",
   "metadata": {},
   "source": [
    "## Line graph\n",
    "\n",
    "First, we will create a simple line graph."
   ]
  },
  {
   "cell_type": "code",
   "execution_count": 3,
   "metadata": {},
   "outputs": [
    {
     "data": {
      "text/plain": [
       "[<matplotlib.lines.Line2D at 0x21de113ca60>]"
      ]
     },
     "execution_count": 3,
     "metadata": {},
     "output_type": "execute_result"
    },
    {
     "data": {
      "image/png": "[encoded data removed]",
      "text/plain": [
       "<Figure size 432x288 with 1 Axes>"
      ]
     },
     "metadata": {
      "filenames": {
       "image/png": "C:\\Users\\User\\Desktop\\kiel\\datasciencebook\\_build\\jupyter_execute\\tutorials\\06-DataVisualization_6_1.png"
      },
      "needs_background": "light"
     },
     "output_type": "display_data"
    }
   ],
   "source": [
    "# Let's create some fake data to plot\n",
    "x = np.arange(0, 11)\n",
    "y = x**2\n",
    "\n",
    "# To plot, simply pass the x and y data to the plot function\n",
    "plt.plot(x, y)"
   ]
  },
  {
   "cell_type": "markdown",
   "metadata": {},
   "source": [
    "Without any other information, matplotlib will add a number of plotting attributes by default.\n",
    "\n",
    "For example, by default we get lines around the plot, tick marks, and axis number labels. \n",
    "\n",
    "We can customize all of these things, and add more stuff to the plot as well."
   ]
  },
  {
   "cell_type": "markdown",
   "metadata": {},
   "source": [
    "## Scatter Plot\n",
    "\n",
    "Next, lets try creating a scatter plot. \n",
    "\n",
    "To do so, we can simulate two groups of data, that we want to plot together on a scatter plot to compare."
   ]
  },
  {
   "cell_type": "code",
   "execution_count": 4,
   "metadata": {},
   "outputs": [],
   "source": [
    "# Create some Data\n",
    "n = 50                   # n is the number of data points\n",
    "x = rand(n)              # Randomly create x data points\n",
    "y1 = rand(n)             # Randomly create 1st group of y data points\n",
    "y2 = rand(n)             # Randomly create 2nd group of y data points"
   ]
  },
  {
   "cell_type": "markdown",
   "metadata": {},
   "source": [
    "### Creating a Scatter Plot\n",
    "\n",
    "The 'scatter' command works about the same as the plot command, but makes a scatter plot instead of a line. \n",
    "\n",
    "Here, we're adding another argument, `color` which specifies the color to make the points. \n",
    "\n",
    "Note there are lots of optional arguments we can add to 'plot' and 'scatter', that we will explore more later. "
   ]
  },
  {
   "cell_type": "code",
   "execution_count": 5,
   "metadata": {},
   "outputs": [
    {
     "data": {
      "text/plain": [
       "<matplotlib.collections.PathCollection at 0x21de11aa310>"
      ]
     },
     "execution_count": 5,
     "metadata": {},
     "output_type": "execute_result"
    },
    {
     "data": {
      "image/png": "[encoded data removed]",
      "text/plain": [
       "<Figure size 432x288 with 1 Axes>"
      ]
     },
     "metadata": {
      "filenames": {
       "image/png": "C:\\Users\\User\\Desktop\\kiel\\datasciencebook\\_build\\jupyter_execute\\tutorials\\06-DataVisualization_11_1.png"
      },
      "needs_background": "light"
     },
     "output_type": "display_data"
    }
   ],
   "source": [
    "# Plot the first set of data\n",
    "plt.scatter(x, y1, color='blue')"
   ]
  },
  {
   "cell_type": "code",
   "execution_count": 6,
   "metadata": {},
   "outputs": [
    {
     "data": {
      "text/plain": [
       "<matplotlib.collections.PathCollection at 0x21de1237250>"
      ]
     },
     "execution_count": 6,
     "metadata": {},
     "output_type": "execute_result"
    },
    {
     "data": {
      "image/png": "[encoded data removed]",
      "text/plain": [
       "<Figure size 432x288 with 1 Axes>"
      ]
     },
     "metadata": {
      "filenames": {
       "image/png": "C:\\Users\\User\\Desktop\\kiel\\datasciencebook\\_build\\jupyter_execute\\tutorials\\06-DataVisualization_12_1.png"
      },
      "needs_background": "light"
     },
     "output_type": "display_data"
    }
   ],
   "source": [
    "# Now, plot both sets of data together\n",
    "#   We can do this by calling the plot call on each set of data\n",
    "#   Subsequent plot calls, like this one, will by default plot onto the same figure\n",
    "plt.scatter(x, y1, color='blue')\n",
    "plt.scatter(x, y2, color='red')"
   ]
  },
  {
   "cell_type": "markdown",
   "metadata": {},
   "source": [
    "We now have a scatter plot!"
   ]
  },
  {
   "cell_type": "markdown",
   "metadata": {},
   "source": [
    "### Customizing Plots\n",
    "\n",
    "The plot above shows the data, but aesthetically there is more we could do to make it look nicer. \n",
    "\n",
    "Next up, we will replot the data, and add some customization to the plot. \n",
    "\n",
    "In the next cell, we will add lots of customization. It's a large set of code, but to explore how it all works, work through bit by bit, and try passing in different values, and see what it does to the resultant plot."
   ]
  },
  {
   "cell_type": "code",
   "execution_count": 7,
   "metadata": {},
   "outputs": [
    {
     "data": {
      "text/plain": [
       "<matplotlib.legend.Legend at 0x21de12bf460>"
      ]
     },
     "execution_count": 7,
     "metadata": {},
     "output_type": "execute_result"
    },
    {
     "data": {
      "image/png": "[encoded data removed]",
      "text/plain": [
       "<Figure size 432x288 with 1 Axes>"
      ]
     },
     "metadata": {
      "filenames": {
       "image/png": "C:\\Users\\User\\Desktop\\kiel\\datasciencebook\\_build\\jupyter_execute\\tutorials\\06-DataVisualization_15_1.png"
      },
      "needs_background": "light"
     },
     "output_type": "display_data"
    }
   ],
   "source": [
    "# Create a new figure\n",
    "#   In this case we are explicitly creating the figure that we will plot to \n",
    "fig = plt.figure()\n",
    "# Add an axes to our figure\n",
    "#   Figures can have multiple axes. This adds a single new axes to our figure\n",
    "ax = plt.axes()\n",
    "\n",
    "# Plot the data again\n",
    "ax.scatter(x, y1, color='blue', alpha=0.6, label='Group 1', s=50)\n",
    "ax.scatter(x, y2, color='red', alpha=0.6, label='Group 2', s=50)\n",
    "# Here we've added some more optional arguments:\n",
    "#   alpha - sets the transparency of the data points\n",
    "#   label - makes a label for the data we've plotted, which can be used in the legend\n",
    "#   s (size) - changes the size of the dots we plot\n",
    "\n",
    "# Add a title to our graph\n",
    "plt.title('My Awesome Scatter Plot', fontsize=18, fontweight='bold')\n",
    "\n",
    "# Add data labels\n",
    "ax.set_xlabel('X Data Label', fontsize=16, fontweight='bold')\n",
    "ax.set_ylabel('Y Data Label', fontsize=16, fontweight='bold')\n",
    "\n",
    "# Set the ranges to plot of the x and y variables\n",
    "ax.set_xlim([-0.1, 1.1])\n",
    "ax.set_ylim([-0.1, 1.1])\n",
    "\n",
    "# Set the tick labels\n",
    "ax.set_xticks(np.array([0.0, 0.2, 0.4, 0.6, 0.8, 1.0]))\n",
    "ax.set_yticks(np.array([0.0, 0.2, 0.4, 0.6, 0.8, 1.0]))\n",
    "\n",
    "# Turn the top and right side lines off\n",
    "ax.spines['right'].set_visible(False)\n",
    "ax.spines['top'].set_visible(False)\n",
    "\n",
    "# Set the tick marks to only be on the bottom and the left. \n",
    "ax.xaxis.set_ticks_position('bottom')\n",
    "ax.yaxis.set_ticks_position('left')\n",
    "\n",
    "# Set linewidth of remaining spines\n",
    "ax.spines['left'].set_linewidth(2)\n",
    "ax.spines['bottom'].set_linewidth(2)\n",
    "\n",
    "# Add a legend. This will use the labels you defined when you set the data.\n",
    "ax.legend(loc='upper left', scatterpoints=1, frameon=False)\n",
    "# Note that legend doesn't require any arguments\n",
    "#   Here we optionally specifing:\n",
    "#     'loc' - where to put the legend\n",
    "#     'scatterpoints' - how many points to show in the legend \n",
    "#     'frameon' - whether to have a box around the legend"
   ]
  },
  {
   "cell_type": "markdown",
   "metadata": {},
   "source": [
    "### Figures and Axes\n",
    "\n",
    "Note that in the above example, we defined a figure object, `fig`, and an axes object, `ax`. \n",
    "\n",
    "You might also notice that sometimes we used called function from `plt`, and sometimes called methods directly on the `ax` object. \n",
    "\n",
    "So, what are these different things?\n",
    "\n",
    "- `plt` is then name we have given the imported matplotlib module\n",
    "    - Here, whenever we are using 'plt' we are calling a function from matplotlib \n",
    "    - By default, this gets applied to the current figure (the most recent one created)\n",
    "- `fig` is a variable name we have given to the figure object\n",
    "    - A figure object is the whole figure that we are creating\n",
    "    - We can use 'fig' (or whatever we call our figure) to access or update our figure after we have created it\n",
    "- `ax` is also a variable name, for the current axis\n",
    "    - A figure can have multiple axes (though our figure above only has one)\n",
    "    - To update a value on an axes object, you can call a `set_` method on the axes object, like we do above"
   ]
  },
  {
   "cell_type": "code",
   "execution_count": 8,
   "metadata": {},
   "outputs": [
    {
     "name": "stdout",
     "output_type": "stream",
     "text": [
      "<class 'matplotlib.figure.Figure'>\n",
      "Figure(432x288)\n",
      "Figure(432x288) \n",
      "\n"
     ]
    },
    {
     "data": {
      "text/plain": [
       "<Figure size 432x288 with 0 Axes>"
      ]
     },
     "metadata": {},
     "output_type": "display_data"
    }
   ],
   "source": [
    "# 'fig' is a label for the figure we are working on.\n",
    "# gcf() is a way to find the current figure. \n",
    "print(type(fig))             # Figure is an object in matplotlib\n",
    "print(fig)                   # This is the figure handle 'fig' we made before\n",
    "print(plt.gcf(), '\\n')       # gcf grabs the current figure. In this case, current figure is same as 'fig'"
   ]
  },
  {
   "cell_type": "code",
   "execution_count": 9,
   "metadata": {},
   "outputs": [
    {
     "name": "stdout",
     "output_type": "stream",
     "text": [
      "<class 'matplotlib.axes._subplots.AxesSubplot'>\n",
      "AxesSubplot(0.125,0.125;0.775x0.755)\n"
     ]
    }
   ],
   "source": [
    "# 'ax' is a name for the current axes. A figure can have many axes (figures can have subplots)\n",
    "print(type(ax))              # Axes is a class of variable in matplotlib\n",
    "print(ax)                    # This is the axes handle 'ax' that we made before\n",
    "\n",
    "# Note that if you need to grab the current axes, you can do so with `plt.gca()`"
   ]
  },
  {
   "cell_type": "markdown",
   "metadata": {},
   "source": [
    "Keeping track of figures and axes, can be a bit confusing at first. Note that typically a lot of managing matplotlib objects objects can happen automatically. In many cases, many figures in different cells, for example, matplotlib will make new figures and axes when it needs to, without you having to explicitly specify this. \n",
    "\n",
    "Defining or accessing figure and axes objects can be useful when customizing plots, replotting things later, or for more custom or complex plotting tasks. That is, it can be useful to have a label to grab our figure, and manipulate it, if and when we need to. \n",
    "   \n",
    "For example, we can get our figure back just by calling the figure object name. "
   ]
  },
  {
   "cell_type": "code",
   "execution_count": 10,
   "metadata": {},
   "outputs": [
    {
     "data": {
      "image/png": "[encoded data removed]",
      "text/plain": [
       "<Figure size 432x288 with 1 Axes>"
      ]
     },
     "execution_count": 10,
     "metadata": {
      "filenames": {
       "image/png": "C:\\Users\\User\\Desktop\\kiel\\datasciencebook\\_build\\jupyter_execute\\tutorials\\06-DataVisualization_20_0.png"
      }
     },
     "output_type": "execute_result"
    }
   ],
   "source": [
    "# Redraw figure with 'fig' variable name\n",
    "fig"
   ]
  },
  {
   "cell_type": "markdown",
   "metadata": {},
   "source": [
    "### Conclusion\n",
    "\n",
    "This is only a brief introduction to the main concepts of matplotlib, that we will use throughout the rest of these materials. For much more in depth explanations and examples, visit the official documentation. "
   ]
  }
 ],
 "metadata": {
  "kernelspec": {
   "display_name": "Python 3.9.13 64-bit (windows store)",
   "language": "python",
   "name": "python3"
  },
  "language_info": {
   "codemirror_mode": {
    "name": "ipython",
    "version": 3
   },
   "file_extension": ".py",
   "mimetype": "text/x-python",
   "name": "python",
   "nbconvert_exporter": "python",
   "pygments_lexer": "ipython3",
   "version": "3.8.13"
  },
  "vscode": {
   "interpreter": {
    "hash": "23b4a3e8622309bcc6db3d5cc6eb73d60ab98d9ec23bad6a26b709981ccb403a"
   }
  }
 },
 "nbformat": 4,
 "nbformat_minor": 2
}