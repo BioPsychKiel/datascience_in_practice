{
 "cells": [
  {
   "cell_type": "markdown",
   "metadata": {},
   "source": [
    "# Dimensionality Reduction\n",
    "\n",
    "Datasets are sometimes very large, containing potentially millions of data points across a large numbers of features. \n",
    "\n",
    "Each feature can also be thought of as a 'dimension'. In some cases, for high-dimensional data, we may want or need to try to reduce the number of dimensions. Reducing the number of dimensions (or reducing the number of features in a dataset) is called 'dimensionality reduction'. \n",
    "\n",
    "The simplest way to do so could simply be to drop some dimensions, and we could even choose to drop the dimensions that seem likely to be the least useful. This would be a simple method of dimensionality reduction. However, this approach is likely to throw away a lot of information, and we wouldn't necessarily know which features to keep. Typically we want to try to reduce the number of dimensions while still preserving the most information we can from the dataset. \n",
    "\n",
    "As we saw before, one way we could try and do something like this is by doing clustering. When we run a clustering analysis on high dimensional data, we can try and re-code data to store each point by it's cluster label, potentially maintaining more information in a smaller number of dimensions.\n",
    "\n",
    "Here we will introduce and explore a different approach to dimensionality reduction. Instead of dropping or clustering our features, we are going to try and learn a new representation of our data, choosing a set of feature dimensions that capture the most variance of our data. This allows us to drop low information dimensions, meaning we can reduce the dimensionality of our data, while preserving the most information. "
   ]
  },
  {
   "cell_type": "markdown",
   "metadata": {},
   "source": [
    "<div class=\"alert alert-success\">\n",
    "Dimensionality reduction is the process of transforming a dataset to a lower dimensional space. \n",
    "</div>\n",
    "\n",
    "<div class=\"alert alert-info\">\n",
    "For more information on dimensionality reduction, see the scikit-learn \n",
    "<a href=https://scikit-learn.org/stable/modules/unsupervised_reduction.html class=\"alert-link\">user manual</a>,\n",
    "and / or \n",
    "<a href=http://colah.github.io/posts/2014-10-Visualizing-MNIST/ class=\"alert-link\">blog post</a>\n",
    "with an explainer and examples in real data.\n",
    "</div>"
   ]
  },
  {
   "cell_type": "markdown",
   "metadata": {},
   "source": [
    "## Principal Component Analysis\n",
    "\n",
    "The method we will for dimensionality reduction is Principal Component Analysis (PCA).\n",
    "\n",
    "PCA can be used to learn a new representation of the data, 're-organizing' our features into a set of new dimensions that are ranked by the variance of the dataset that they account for. With this, we can do dimensionality reduction by dropping dimensions with a small amount of explained variance. "
   ]
  },
  {
   "cell_type": "markdown",
   "metadata": {},
   "source": [
    "<div class=\"alert alert-success\">\n",
    "Principal Component Analysis (PCA) is procedure to transform a dataset into principle components, ordered by how much variance they capture.\n",
    "</div>\n",
    "\n",
    "<div class=\"alert alert-info\">\n",
    "For a paper that covers a full tutorial of PCA, go \n",
    "<a href=\"https://arxiv.org/pdf/1404.1100.pdf\" class=\"alert-link\">here</a>.\n",
    "For a more technical overview and explainer, check out this \n",
    "<a href=\"http://alexhwilliams.info/itsneuronalblog/2016/03/27/pca/\" class=\"alert-link\">post</a>.\n",
    "</div>"
   ]
  },
  {
   "cell_type": "markdown",
   "metadata": {},
   "source": [
    "### PCA Overview\n",
    "\n",
    "To use PCA for Dimensionality Reduction, we can apply PCA to a dataset, learning our new components that represent the data. From this, we can choose to preserve _n_ components, where _n_ is a number lower than the original dimensionality of our data set. By transforming our data with PCA, and choosing the keep the top _n_ components, we are able to keep the most variance of the original data in our lower dimensional space.\n",
    "\n",
    "Broadly, PCA seeks to take advantage of the correlational structure of the variables, and uses this structure to re-encode the data. For example, if feature $x_1$ and $x_2$ of our data are correlated, PCA looks for how it could re-organize the data into some new dimension $x_pc$ which captures most of the shared variance (correlated structure) between the two. \n",
    "\n",
    "In practice, PCA is most useful to go from _m_D -> _n_D data, where D is the dimensionality of the data, _m_ is a large number and we want to choose a new dimensionality _n_, where _n_ < _m_. \n",
    "\n",
    "For this this notebook, we will work through a simplified example, illustrating the point in dimensionalities that we can plot, by going from 2D to 1D data."
   ]
  },
  {
   "cell_type": "code",
   "execution_count": 1,
   "metadata": {},
   "outputs": [],
   "source": [
    "# Imports\n",
    "%matplotlib inline\n",
    "\n",
    "import numpy as np\n",
    "import matplotlib.pyplot as plt\n",
    "\n",
    "from sklearn.decomposition import PCA"
   ]
  },
  {
   "cell_type": "markdown",
   "metadata": {},
   "source": [
    "For this examples, we will create some example data, with 2 dimensions, in which the two dimensions are correlated (share some variance). "
   ]
  },
  {
   "cell_type": "code",
   "execution_count": 2,
   "metadata": {},
   "outputs": [],
   "source": [
    "# Settings\n",
    "means = [50, 50]\n",
    "covs = [[1, .75], [.75, 1]]\n",
    "n = 1000\n",
    "\n",
    "# Generate data\n",
    "data = np.random.multivariate_normal(means, covs, n)"
   ]
  },
  {
   "cell_type": "code",
   "execution_count": 3,
   "metadata": {},
   "outputs": [
    {
     "data": {
      "image/png": "[encoded data removed]",
      "text/plain": [
       "<Figure size 432x288 with 2 Axes>"
      ]
     },
     "metadata": {
      "filenames": {
       "image/png": "C:\\Users\\User\\Desktop\\kiel\\datasciencebook\\_build\\jupyter_execute\\tutorials\\16-DimensionalityReduction_8_0.png"
      },
      "needs_background": "light"
     },
     "output_type": "display_data"
    }
   ],
   "source": [
    "# Plot our two random variables\n",
    "_, ax = plt.subplots(1, 2)\n",
    "ax[0].hist(data[:, 0]); ax[0].set_title('D1');\n",
    "ax[1].hist(data[:, 1]); ax[1].set_title('D2');"
   ]
  },
  {
   "cell_type": "code",
   "execution_count": 4,
   "metadata": {},
   "outputs": [
    {
     "data": {
      "image/png": "[encoded data removed]",
      "text/plain": [
       "<Figure size 432x288 with 1 Axes>"
      ]
     },
     "metadata": {
      "filenames": {
       "image/png": "C:\\Users\\User\\Desktop\\kiel\\datasciencebook\\_build\\jupyter_execute\\tutorials\\16-DimensionalityReduction_9_0.png"
      },
      "needs_background": "light"
     },
     "output_type": "display_data"
    }
   ],
   "source": [
    "# Check out how the data relates to each other\n",
    "plt.scatter(data[:, 0], data[:, 1]);\n",
    "\n",
    "# Add title and labels\n",
    "plt.title('Simulated Data', fontsize=16, fontweight='bold')\n",
    "plt.xlabel('D1', fontsize=14);\n",
    "plt.ylabel('D2', fontsize=14);"
   ]
  },
  {
   "cell_type": "markdown",
   "metadata": {},
   "source": [
    "As we can see, there are features are indeed correlated. \n",
    "\n",
    "\n",
    "Note that one way to think about PCA is as a 'rotation' of the data to a new basis. If we want to choose a single dimension to represent this data, we can see that choosing one or the other of the original dimensions (the X or Y dimension in the plot) would not be ideal. What we want to do with PCA is chose a new set of dimension - like drawing new axes into our plot - to best represent our data.\n",
    "\n",
    "\n",
    "\n",
    "\n",
    "In this case, we have 2-dimensions of data. What we want to do, with PCA, is chose a lower dimensional (in this case, 1D) representation of this data that preserves the most information from the data that we can, given the new dimensionality.\n",
    "\n",
    "Note that in this example, we are only going from 2D -> 1D, for simplicity and convenience. In practice is most useful when there is a very large number of dimensions, say 20,000, and want to transform the data into a lower dimensional space, maybe something like 20 dimensions, that is more manageable and usable for further analyses."
   ]
  },
  {
   "cell_type": "markdown",
   "metadata": {},
   "source": [
    "# Applying PCA\n",
    "\n",
    "Now, we want to apply PCA to our data, to reduce it's dimensionality, while capturing the most information we can from the original space.\n",
    "\n",
    "To do so, we will use the PCA implementation from `sklearn`.\n",
    "\n",
    "We will use the `PCA` object to initialize a `PCA` model specifying any settings we want, that we can then apply to the data. "
   ]
  },
  {
   "cell_type": "code",
   "execution_count": 5,
   "metadata": {},
   "outputs": [],
   "source": [
    "# Initialize the PCA model, here specifying 1 component\n",
    "pca = PCA(n_components=1, whiten=True)"
   ]
  },
  {
   "cell_type": "code",
   "execution_count": 6,
   "metadata": {},
   "outputs": [],
   "source": [
    "# Fit PCA to the data\n",
    "pca = pca.fit(data)"
   ]
  },
  {
   "cell_type": "markdown",
   "metadata": {},
   "source": [
    "The `pca` object has now learned the principal component representation of our data. \n",
    "\n",
    "We can now apply this to our original data with `transform`."
   ]
  },
  {
   "cell_type": "code",
   "execution_count": 7,
   "metadata": {},
   "outputs": [],
   "source": [
    "# Transform the data, using our learned PCA representation\n",
    "out = pca.transform(data)"
   ]
  },
  {
   "cell_type": "markdown",
   "metadata": {},
   "source": [
    "The returned variable is a new array, with our data, after dimensionality reduction. \n",
    "\n",
    "Recall that are original data was 2 dimnensional. Our transformed data is now 1 dimensional."
   ]
  },
  {
   "cell_type": "code",
   "execution_count": 8,
   "metadata": {},
   "outputs": [
    {
     "name": "stdout",
     "output_type": "stream",
     "text": [
      "Original data dimensions: \t (1000, 2)\n",
      "Transformed data dimensions: \t (1000, 1)\n"
     ]
    }
   ],
   "source": [
    "# Check out the dimensions of the data\n",
    "print(\"Original data dimensions: \\t\", data.shape)\n",
    "print(\"Transformed data dimensions: \\t\", out.shape)"
   ]
  },
  {
   "cell_type": "markdown",
   "metadata": {},
   "source": [
    "By reducing the dimensionality, we off course lose at least some information.\n",
    "\n",
    "Using PCA, we are nevertheless trying to preserve as much variance as we can. \n",
    "\n",
    "Next, let's check how much variance we have kept. \n",
    "\n",
    "We can do so, our the sklearn PCA object computes and stores how much explained variance each component captures. "
   ]
  },
  {
   "cell_type": "code",
   "execution_count": 9,
   "metadata": {},
   "outputs": [
    {
     "name": "stdout",
     "output_type": "stream",
     "text": [
      "The proportion of variance explained by the first principcal component is 0.8798.\n"
     ]
    }
   ],
   "source": [
    "# Check how much variance is captured by the first component\n",
    "print(\"The proportion of variance explained by the first \" +\n",
    "      \"principcal component is {:1.4f}.\".format(pca.explained_variance_ratio_[0]))"
   ]
  },
  {
   "cell_type": "markdown",
   "metadata": {},
   "source": [
    "Finally, let's plot the transformed data.  \n",
    "\n",
    "Note that in the plot below, the data is 1 dimensional, so the x-axis here is just index number. "
   ]
  },
  {
   "cell_type": "code",
   "execution_count": 10,
   "metadata": {},
   "outputs": [
    {
     "data": {
      "image/png": "[encoded data removed]",
      "text/plain": [
       "<Figure size 432x288 with 1 Axes>"
      ]
     },
     "metadata": {
      "filenames": {
       "image/png": "C:\\Users\\User\\Desktop\\kiel\\datasciencebook\\_build\\jupyter_execute\\tutorials\\16-DimensionalityReduction_21_0.png"
      },
      "needs_background": "light"
     },
     "output_type": "display_data"
    }
   ],
   "source": [
    "# Check out the transformed data, in the new space\n",
    "plt.plot(out, '.');\n",
    "\n",
    "# Add title and labels\n",
    "plt.title('Simulated Data', fontsize=16, fontweight='bold')\n",
    "plt.xlabel('Samples', fontsize=14);\n",
    "plt.ylabel('PC-1', fontsize=14);"
   ]
  },
  {
   "cell_type": "markdown",
   "metadata": {},
   "source": [
    "## Conclusion\n",
    "\n",
    "Dimensionality reduction, and PCA in particular, are common data transformations, especially for large data. \n",
    "\n",
    "As for our other topics related to machine learning and data analysis, here we have merely introduced the basic ideas behind dimensionality reduction, and one of the most common algorithms to do so, PCA. For further information on these topics, look into more technical courses or resources. "
   ]
  },
  {
   "cell_type": "markdown",
   "metadata": {},
   "source": [
    "<div class=\"alert alert-info\">\n",
    "For a more in depth tutorial on doing PCA in Python, go\n",
    "<a href=\"https://towardsdatascience.com/pca-using-python-scikit-learn-e653f8989e60\" class=\"alert-link\">here</a>,\n",
    "and for a more technical orientation tutorial, go\n",
    "<a href=\"http://sebastianraschka.com/Articles/2015_pca_in_3_steps.html\" class=\"alert-link\">here</a>.\n",
    "</div>"
   ]
  }
 ],
 "metadata": {
  "kernelspec": {
   "display_name": "Python 3",
   "language": "python",
   "name": "python3"
  },
  "language_info": {
   "codemirror_mode": {
    "name": "ipython",
    "version": 3
   },
   "file_extension": ".py",
   "mimetype": "text/x-python",
   "name": "python",
   "nbconvert_exporter": "python",
   "pygments_lexer": "ipython3",
   "version": "3.8.13"
  }
 },
 "nbformat": 4,
 "nbformat_minor": 2
}