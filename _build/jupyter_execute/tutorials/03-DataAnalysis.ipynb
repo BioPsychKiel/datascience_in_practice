{
 "cells": [
  {
   "cell_type": "markdown",
   "metadata": {},
   "source": [
    "# s02: Data Analysis"
   ]
  },
  {
   "cell_type": "markdown",
   "metadata": {
    "collapsed": true
   },
   "source": [
    "This notebook goes through some minimal examples of the kinds of things we might want to do using data science approaches. \n",
    "\n",
    "In particular, it briefly introduces analyzing data for the purposes of:\n",
    "- `Prediction`: to analyze available data in order to be able to make predictions about future data\n",
    "- `Classification`: to group and label data in useful and meaningful ways\n",
    "- `Knowledge Discovery`: to seek to discover new knowledge about the data and the phenomena they represent\n",
    "\n",
    "These are not the only tasks we might have in data science, but these examples do capture some of the key tasks when doing data science. \n",
    "\n",
    "These examples will already start using packages in the Python data-science toolkit, and some simple algorithms to demonstrate example cases. \n",
    "\n",
    "The goal here is show, in code, the outline of the kinds of things data science is interested in doing. You don't yet need to be able to follow how the code works for these examples. These tools and algorithms will be more fully described and properly introduced in future notebooks."
   ]
  },
  {
   "cell_type": "code",
   "execution_count": 1,
   "metadata": {},
   "outputs": [],
   "source": [
    "%matplotlib inline\n",
    "\n",
    "# Import numpy and matplotlib for some quick examples\n",
    "import numpy as np\n",
    "import matplotlib.pyplot as plt"
   ]
  },
  {
   "cell_type": "markdown",
   "metadata": {},
   "source": [
    "<div class=\"alert alert-danger\">\n",
    "Task 2.1: Import the numpy package as np and create a variable with a meaningful name. The variable should hold an 1darray with number as integers from 1 to 10. (2 points)\n",
    "</div>"
   ]
  },
  {
   "cell_type": "markdown",
   "metadata": {},
   "source": [
    "<div class=\"alert alert-danger\">\n",
    "Task 2.2: Using numpy create a 1darray of random integers (np.random.randint). Find the min, max, and mean of the array and print them in the command line using a formatted string. (2 points)\n",
    "</div>"
   ]
  },
  {
   "cell_type": "markdown",
   "metadata": {},
   "source": [
    "## Prediction"
   ]
  },
  {
   "cell_type": "markdown",
   "metadata": {
    "collapsed": true
   },
   "source": [
    "<div class=\"alert alert-success\">\n",
    "Prediction is the use of current (training) data to make predictions about future observations.\n",
    "</div>"
   ]
  },
  {
   "cell_type": "markdown",
   "metadata": {},
   "source": [
    "### Example Problem\n",
    "\n",
    "Let's say we wanted to predict the weight of dogs, given that we know their length. \n",
    "\n",
    "We could imagine, for example, in the case of a veterinary clinic, in some cases it might be easier to measure a dog with a tape measure, rather than to get it dog onto a scale, if we can then estimate the information we need.\n",
    "\n",
    "So how do we go about making such predictions?"
   ]
  },
  {
   "cell_type": "code",
   "execution_count": 2,
   "metadata": {},
   "outputs": [],
   "source": [
    "# We start with some data\n",
    "lengths = [75, 50, 90, 115]    # cm's\n",
    "weights = [17.5, 10, 18, 20]   # kg's"
   ]
  },
  {
   "cell_type": "code",
   "execution_count": 3,
   "metadata": {},
   "outputs": [
    {
     "data": {
      "image/png": "[encoded data removed]",
      "text/plain": [
       "<Figure size 432x288 with 1 Axes>"
      ]
     },
     "metadata": {
      "filenames": {
       "image/png": "C:\\Users\\User\\Desktop\\kiel\\teaching\\seminars\\datascience_in_practice_psyM1_2\\_build\\jupyter_execute\\tutorials\\03-DataAnalysis_9_0.png"
      },
      "needs_background": "light"
     },
     "output_type": "display_data"
    }
   ],
   "source": [
    "# Plot the data: Always visualize your data!\n",
    "fig, ax = plt.subplots()\n",
    "ax.plot(lengths, weights, '.', ms=15)\n",
    "ax.set(xlabel='Length (cm)', ylabel='Weight (kg)',\n",
    "       xlim=[30, 125], ylim=[5, 25]);"
   ]
  },
  {
   "cell_type": "code",
   "execution_count": 4,
   "metadata": {},
   "outputs": [],
   "source": [
    "# Polyfit (degree=1) will fit a linear fit to the data, of the form y = ax + b\n",
    "#  Once we fit this simple model to the data, we can use it to predict from new data points\n",
    "a, b = np.polyfit(lengths, weights, 1)"
   ]
  },
  {
   "cell_type": "code",
   "execution_count": 5,
   "metadata": {},
   "outputs": [
    {
     "name": "stdout",
     "output_type": "stream",
     "text": [
      "Predicted weight for a new data point, weight is 13.35.\n"
     ]
    }
   ],
   "source": [
    "# So now we can predict the weight of a new observation (a new dog)\n",
    "new_length = 62\n",
    "pred_weight = a * new_length + b \n",
    "print('Predicted weight for a new data point, weight is {:1.2f}.'.format(pred_weight))"
   ]
  },
  {
   "cell_type": "code",
   "execution_count": 6,
   "metadata": {},
   "outputs": [
    {
     "data": {
      "image/png": "[encoded data removed]",
      "text/plain": [
       "<Figure size 432x288 with 1 Axes>"
      ]
     },
     "execution_count": 6,
     "metadata": {
      "filenames": {
       "image/png": "C:\\Users\\User\\Desktop\\kiel\\teaching\\seminars\\datascience_in_practice_psyM1_2\\_build\\jupyter_execute\\tutorials\\03-DataAnalysis_12_0.png"
      }
     },
     "output_type": "execute_result"
    }
   ],
   "source": [
    "# We can check how our prediction fits in with the data we observed\n",
    "ax.plot(new_length, pred_weight, '.r', ms=15)\n",
    "fig"
   ]
  },
  {
   "cell_type": "code",
   "execution_count": 7,
   "metadata": {},
   "outputs": [
    {
     "name": "stdout",
     "output_type": "stream",
     "text": [
      "The (absolute) error of our prediction is 1.35 kilograms.\n"
     ]
    }
   ],
   "source": [
    "# If we also happen to now the true weight of our test data, we can check how good our prediction is\n",
    "actual_weight = 14.7\n",
    "error = actual_weight - pred_weight\n",
    "\n",
    "print('The (absolute) error of our prediction is {:1.2f} kilograms.'.format(error))"
   ]
  },
  {
   "cell_type": "markdown",
   "metadata": {},
   "source": [
    "How we go about making predictions gets more complicated, as we deal with large, messy data with more variables of various 'shapes'. \n",
    "\n",
    "Fundamentally, though, it comes down to the same process: what can we learn from a set of data, such that, given a new peice of data, we can make predictions about it (and using test data with known answers to evaluate how good our predictive models are). \n",
    "<hr>"
   ]
  },
  {
   "cell_type": "markdown",
   "metadata": {},
   "source": [
    "## Classification"
   ]
  },
  {
   "cell_type": "markdown",
   "metadata": {},
   "source": [
    "<div class=\"alert alert-success\">\n",
    "Classification (or clustering) is the process of trying to discover a systematic organization of data. \n",
    "</div>"
   ]
  },
  {
   "cell_type": "markdown",
   "metadata": {},
   "source": [
    "### Problem\n",
    "\n",
    "Let's now imagine our local zoologist is investigating a group of squirrels. \n",
    "\n",
    "She would like to know how many different species there are present in the population. However, she only has a limited set of basic data to work with.\n",
    "\n",
    "We can try and cluster the data we have, and look for (what look like) meaningful groupings.\n",
    "\n",
    "In this case, let's imagine we were able to weigh and measure a selection of squirrels that otherwise look about the same. \n",
    "\n",
    "Our task is then to analyze the data to see if there appear to be any meaningful groupings."
   ]
  },
  {
   "cell_type": "code",
   "execution_count": 8,
   "metadata": {},
   "outputs": [],
   "source": [
    "# We observe a bunch of squirrels with [height (cm), weight (grams)] pairs\n",
    "data = np.array([[10., 600.], [16., 1200], [6., 800], [12., 700.], [17., 1400.],\n",
    "                [8., 500.], [20., 1500.], [21., 1300.], [11., 800.], [18., 1100.]])"
   ]
  },
  {
   "cell_type": "code",
   "execution_count": 9,
   "metadata": {},
   "outputs": [
    {
     "data": {
      "image/png": "[encoded data removed]",
      "text/plain": [
       "<Figure size 432x288 with 1 Axes>"
      ]
     },
     "metadata": {
      "filenames": {
       "image/png": "C:\\Users\\User\\Desktop\\kiel\\teaching\\seminars\\datascience_in_practice_psyM1_2\\_build\\jupyter_execute\\tutorials\\03-DataAnalysis_19_0.png"
      },
      "needs_background": "light"
     },
     "output_type": "display_data"
    }
   ],
   "source": [
    "# Visualize our data!\n",
    "fig, ax = plt.subplots()\n",
    "ax.plot(data[:, 0], data[:, 1], '.', ms=12)\n",
    "ax.set(xlabel='Height (cm)', ylabel='Weight (g)',\n",
    "       xlim=[0, 25], ylim=[300, 1700]);"
   ]
  },
  {
   "cell_type": "code",
   "execution_count": 10,
   "metadata": {},
   "outputs": [],
   "source": [
    "# Use scikit-learn to import a classification algorithm\n",
    "from sklearn.cluster import KMeans"
   ]
  },
  {
   "cell_type": "code",
   "execution_count": 11,
   "metadata": {},
   "outputs": [
    {
     "name": "stderr",
     "output_type": "stream",
     "text": [
      "C:\\Users\\User\\anaconda3\\lib\\site-packages\\sklearn\\cluster\\_kmeans.py:1332: UserWarning: KMeans is known to have a memory leak on Windows with MKL, when there are less chunks than available threads. You can avoid it by setting the environment variable OMP_NUM_THREADS=1.\n",
      "  warnings.warn(\n"
     ]
    }
   ],
   "source": [
    "# Apply K-means clustering\n",
    "#   We'll come back to how this algorithm works later\n",
    "kmeans = KMeans(2).fit(data)"
   ]
  },
  {
   "cell_type": "code",
   "execution_count": 12,
   "metadata": {},
   "outputs": [
    {
     "data": {
      "text/plain": [
       "array([1, 0, 1, 1, 0, 1, 0, 0, 1, 0])"
      ]
     },
     "execution_count": 12,
     "metadata": {},
     "output_type": "execute_result"
    }
   ],
   "source": [
    "# This gives us a label each data point, as to which cluster it belongs to\n",
    "kmeans.labels_"
   ]
  },
  {
   "cell_type": "code",
   "execution_count": 13,
   "metadata": {},
   "outputs": [],
   "source": [
    "# We can use these to split our dataset up into putative groupings\n",
    "cl_1 = data[kmeans.labels_ == 0]\n",
    "cl_2 = data[kmeans.labels_ == 1]"
   ]
  },
  {
   "cell_type": "code",
   "execution_count": 14,
   "metadata": {},
   "outputs": [
    {
     "data": {
      "text/plain": [
       "[Text(0.5, 0, 'Height (cm)'),\n",
       " Text(0, 0.5, 'Weight (g)'),\n",
       " (0.0, 25.0),\n",
       " (300.0, 1700.0)]"
      ]
     },
     "execution_count": 14,
     "metadata": {},
     "output_type": "execute_result"
    },
    {
     "data": {
      "image/png": "[encoded data removed]",
      "text/plain": [
       "<Figure size 432x288 with 1 Axes>"
      ]
     },
     "metadata": {
      "filenames": {
       "image/png": "C:\\Users\\User\\Desktop\\kiel\\teaching\\seminars\\datascience_in_practice_psyM1_2\\_build\\jupyter_execute\\tutorials\\03-DataAnalysis_24_1.png"
      },
      "needs_background": "light"
     },
     "output_type": "display_data"
    }
   ],
   "source": [
    "# And visualize the classification\n",
    "fig, ax = plt.subplots()\n",
    "ax.plot(cl_1[:, 0], cl_1[:, 1], '.b', ms=12)\n",
    "ax.plot(cl_2[:, 0], cl_2[:, 1], '.r', ms=12)\n",
    "ax.set(xlabel='Height (cm)', ylabel='Weight (g)',\n",
    "       xlim=[0, 25], ylim=[300, 1700])"
   ]
  },
  {
   "cell_type": "markdown",
   "metadata": {},
   "source": [
    "In the above example, we tried to see if partition the data into two groups worked well and, visually, it looks quite reasonable!\n",
    "\n",
    "Note, however, that properly evaluating classification is difficult. That is especially true in this case, since we don't know the answer. That means this example is unsupervised - we don't know the answer, or have any labels to learn these patterns in the data.\n",
    "\n",
    "So, in this case, the answer looks plausible, but it's hard to know if there really are two groups here. There could be more, or fewer. We'll come back to how these analyses actually work and how to evaluate what you get out of them. "
   ]
  },
  {
   "cell_type": "markdown",
   "metadata": {},
   "source": [
    "<div class=\"alert alert-danger\">\n",
    "Add data for a third species of squirrels. Run the k-means algorithm again for three clusters and see how it influences your outcome. To do so, plot the new data with three clusters. (3 points)\n",
    "</div>"
   ]
  },
  {
   "cell_type": "markdown",
   "metadata": {},
   "source": [
    "## Knowledge Discovery"
   ]
  },
  {
   "cell_type": "markdown",
   "metadata": {},
   "source": [
    "<div class=\"alert alert-success\">\n",
    "Knowledge Discovery is the attempt to learn new things about the world from data. \n",
    "</div>"
   ]
  },
  {
   "cell_type": "markdown",
   "metadata": {},
   "source": [
    "Knowledge discovery is not necessarily methodologically distinct from prediction and classification. Seeking new knowledge will likely include analysis focused on classification and prediction, and other related analyses.\n",
    "\n",
    "However, we can consider that the data science problems can have different contexts and approaches. Asking how predict one known variable from another (such as a dog's weight from it's length), or to classify data into a previously known categorization scheme (such as labeling different kinds of species) are tasks that use data science to answer previously known questions. \n",
    "\n",
    "Sometimes, in data analyses, we also want to explore and discover new findings and ideas from a dataset without having pre-defined questions. We might try to ask about the structure of the data, or look for new patterns we didn't know before. This is sometimes also called 'exploratory data analysis', as opposed to 'hypothesis driven' work. "
   ]
  },
  {
   "cell_type": "markdown",
   "metadata": {},
   "source": [
    "<div class=\"alert alert-info\"> \n",
    "A great example of this is a <a href=https://genomebiology.biomedcentral.com/articles/10.1186/s13059-020-02133-w class=\"alert-link\">study</a> from Düsseldorf, where students of a seminar were asked to analyse a dataset. \n",
    "The dataset contained the body mass index (BMI) of 1786 people, together with the number of steps each of them took on a particular day, in two files: one for men, one for women. \n",
    "Students were placed into two groups. The students in the first group were asked to consider three specific hypotheses: \n",
    "(i) that there is a statistically significant difference in the average number of steps taken by men and women, \n",
    "(ii) that there is a negative correlation between the number of steps and the BMI for women, and\n",
    "(iii) that this correlation is positive for men. They were also asked if there was anything else they could conclude from the dataset. \n",
    "\n",
    "In the second, “hypothesis-free,” group, students were simply asked: What do you conclude from the dataset? \n",
    "\n",
    "Funny enough, if you would plot the data BMI vs. number of steps, the image of a gorilla emerged. It the students group with the hypothesis, 14 students did not discover the gorilla, while only 5 did. (5 to 9 in the hypothesis free group).\n",
    "\n",
    "</div>"
   ]
  },
  {
   "cell_type": "markdown",
   "metadata": {},
   "source": [
    "<br>\n",
    "<img src=\"img/data_gorilla.png\",width=\"250px\">\n",
    "<br>"
   ]
  }
 ],
 "metadata": {
  "anaconda-cloud": {},
  "kernelspec": {
   "display_name": "Python 3.8.13 ('base')",
   "language": "python",
   "name": "python3"
  },
  "language_info": {
   "codemirror_mode": {
    "name": "ipython",
    "version": 3
   },
   "file_extension": ".py",
   "mimetype": "text/x-python",
   "name": "python",
   "nbconvert_exporter": "python",
   "pygments_lexer": "ipython3",
   "version": "3.8.13"
  },
  "vscode": {
   "interpreter": {
    "hash": "f08154012ddadd8e950e6e9e035c7a7b32c136e7647e9b7c77e02eb723a8bedb"
   }
  }
 },
 "nbformat": 4,
 "nbformat_minor": 1
}