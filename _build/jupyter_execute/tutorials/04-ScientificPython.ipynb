{
 "cells": [
  {
   "cell_type": "markdown",
   "metadata": {},
   "source": [
    "# s02: Scientific Python\n",
    "\n",
    "Python has a large number of open source tools available for doing data science, sometimes referred to as 'scientific Python'. \n",
    "\n",
    "The scientific Python ecosystem revolves around some a set of core modules, including:\n",
    "\n",
    "- `scipy`\n",
    "- `numpy`\n",
    "- `pandas`\n",
    "- `matplotlib`\n",
    "- `scikit-learn`\n",
    "\n",
    "Here we will explore the basics of these modules and what they do, starting with scipy."
   ]
  },
  {
   "cell_type": "markdown",
   "metadata": {},
   "source": [
    "<br>\n",
    "<br>\n",
    "<img src=\"img/scipy.png\" width=\"200px\">\n",
    "<br>\n",
    "<br>"
   ]
  },
  {
   "cell_type": "markdown",
   "metadata": {},
   "source": [
    "<div class=\"alert alert-success\">\n",
    "Scipy is an 'ecosystem', including a collection of open-source packages for scientific computing in Python.\n",
    "</div>\n",
    "\n",
    "<div class=\"alert alert-info\">\n",
    "The scipy organization website is \n",
    "<a href=\"https://www.scipy.org/\" class=\"alert-link\">here</a>,\n",
    "including a \n",
    "<a href=\"https://www.scipy.org/about.html\" class=\"alert-link\">description</a>\n",
    "of the 'ecosystem', materials for \n",
    "<a href=\"https://www.scipy.org/getting-started.html\" class=\"alert-link\">getting started</a>, \n",
    "and extensive \n",
    "<a href=\"https://docs.scipy.org/doc/scipy/reference/tutorial/\" class=\"alert-link\">tutorials</a>.\n",
    "</div>"
   ]
  },
  {
   "cell_type": "code",
   "execution_count": 1,
   "metadata": {},
   "outputs": [],
   "source": [
    "# You can import the full scipy package, typically shortened to 'sp'\n",
    "import scipy as sp\n",
    "\n",
    "# However, it is perhaps more common to import particular submodules\n",
    "#  For example, let's import the stats submodule\n",
    "import scipy.stats as sts"
   ]
  },
  {
   "cell_type": "markdown",
   "metadata": {},
   "source": [
    "Scipy has a broad range of functionality.\n",
    "\n",
    "For a simple / random example, let's use it's stats module to model flipping a coin with [Bernouilli Distribution](https://en.wikipedia.org/wiki/Bernoulli_distribution), which is a distribution that can model a random variable that can be either 0 (call it Tails) or 1 (call it Heads). "
   ]
  },
  {
   "cell_type": "code",
   "execution_count": 2,
   "metadata": {},
   "outputs": [
    {
     "data": {
      "text/plain": [
       "1"
      ]
     },
     "execution_count": 2,
     "metadata": {},
     "output_type": "execute_result"
    }
   ],
   "source": [
    "# Let's model a fair coin - with 0.5 probability of being Heads\n",
    "sts.bernoulli.rvs(0.5)"
   ]
  },
  {
   "cell_type": "code",
   "execution_count": 3,
   "metadata": {},
   "outputs": [
    {
     "name": "stdout",
     "output_type": "stream",
     "text": [
      "The first ten coin flips are:  [0, 0, 1, 1, 0, 1, 1, 0, 0, 0]\n",
      "The percent of heads from this sample is:  50.0 %\n"
     ]
    }
   ],
   "source": [
    "# Let's flip a bunch of coins!\n",
    "coin_flips = [sts.bernoulli.rvs(0.5) for ind in range(100)]\n",
    "print('The first ten coin flips are: ', coin_flips[:10])\n",
    "print('The percent of heads from this sample is: ', sum(coin_flips) / len(coin_flips) * 100, '%')"
   ]
  },
  {
   "cell_type": "markdown",
   "metadata": {},
   "source": [
    "<br>\n",
    "<br>\n",
    "<img src=\"img/numpy.png\" width=\"300px\">\n",
    "<br>\n",
    "<br>"
   ]
  },
  {
   "cell_type": "markdown",
   "metadata": {},
   "source": [
    "<div class=\"alert alert-success\">\n",
    "Numpy contains an array object (for multi-dimensional data, typically of uniform type), and operations for linear algrebra and analysis on arrays. \n",
    "</div>\n",
    "\n",
    "<div class=\"alert alert-info\">\n",
    "The numpy website is\n",
    "<a href=\"http://www.numpy.org/\" class=\"alert-link\">here</a>,\n",
    "including their official \n",
    "<a href=\"https://docs.scipy.org/doc/numpy-dev/user/quickstart.html\" class=\"alert-link\">quickstart tutorial</a>.\n",
    "</div>"
   ]
  },
  {
   "cell_type": "markdown",
   "metadata": {},
   "source": [
    "\n",
    "Note: \n",
    "An array is a 'a systematic arrangement of similar objects, usually in rows and columns' (definition from [Wikipedia](https://en.wikipedia.org/wiki/Array))"
   ]
  },
  {
   "cell_type": "code",
   "execution_count": 4,
   "metadata": {},
   "outputs": [],
   "source": [
    "# Numpy is standardly imported as 'np'\n",
    "import numpy as np"
   ]
  },
  {
   "cell_type": "code",
   "execution_count": 5,
   "metadata": {},
   "outputs": [],
   "source": [
    "# Numpy's specialty is linear algebra and arrays of (uniform) data \n",
    "\n",
    "# Define some arrays\n",
    "#  Arrays can have different types, but all the data within an array needs to be the same type\n",
    "arr_1 = np.array([1, 2, 3])\n",
    "arr_2 = np.array([4, 5, 6])\n",
    "bool_arr = np.array([True, False, True])\n",
    "str_arr = np.array(['a', 'b', 'c'])"
   ]
  },
  {
   "cell_type": "code",
   "execution_count": 6,
   "metadata": {},
   "outputs": [
    {
     "name": "stdout",
     "output_type": "stream",
     "text": [
      "<class 'numpy.str_'>\n",
      "<class 'numpy.str_'>\n"
     ]
    }
   ],
   "source": [
    "# Note that if you try to make a mixed-data-type array, numpy won't fail, \n",
    "#  but it will (silently)\n",
    "arr = np.array([1, 'b', True])\n",
    "\n",
    "# Check the type of array items\n",
    "print(type(arr[0]))\n",
    "print(type(arr[2]))"
   ]
  },
  {
   "cell_type": "code",
   "execution_count": 7,
   "metadata": {},
   "outputs": [
    {
     "name": "stdout",
     "output_type": "stream",
     "text": [
      "True\n",
      "False\n"
     ]
    }
   ],
   "source": [
    "# These array will therefore not act like you might expect\n",
    "# The last item looks like a Boolen\n",
    "print(arr[2])\n",
    "\n",
    "# However, since it's actually a string, it won't evaluate like a Boolean\n",
    "print(arr[2] == True)"
   ]
  },
  {
   "cell_type": "markdown",
   "metadata": {},
   "source": [
    "<div class=\"alert alert-info\">\n",
    "For more practice with numpy, check out the collection \n",
    "<a href=\"https://github.com/rougier/numpy-100\" class=\"alert-link\">numpy exercises</a>.\n",
    "</div>"
   ]
  },
  {
   "cell_type": "markdown",
   "metadata": {},
   "source": [
    "<br>\n",
    "<br>\n",
    "<img src=\"img/pandas.png\" width=\"400px\">\n",
    "<br>\n",
    "<br>"
   ]
  },
  {
   "cell_type": "markdown",
   "metadata": {},
   "source": [
    "<div class=\"alert alert-success\">\n",
    "Pandas is a package for organizing data in data structures, and performing data analysis upon them.\n",
    "</div>\n",
    "\n",
    "<div class=\"alert alert-info\">\n",
    "The official pandas website is \n",
    "<a href=\"http://pandas.pydata.org/\" class=\"alert-link\">here</a>,\n",
    "including materials such as \n",
    "<a href=\"http://pandas.pydata.org/pandas-docs/version/0.17.0/10min.html\" class=\"alert-link\">10 minutes to pandas</a>\n",
    "and a tutorial on \n",
    "<a href=\"http://pandas.pydata.org/pandas-docs/version/0.17.0/basics.html\" class=\"alert-link\">essential basic functionality</a>.\n",
    "</div>"
   ]
  },
  {
   "cell_type": "markdown",
   "metadata": {},
   "source": [
    "Pandas main data object is the DataFrame, which is a powerful data object to store mixed data types together with labels. \n",
    "\n",
    "Pandas dataframes also offer a large range of available methods for processing and analyzing data.\n",
    "\n",
    "If you are familiar with R, pandas dataframes object and approaches are quite similar to R."
   ]
  },
  {
   "cell_type": "code",
   "execution_count": 8,
   "metadata": {},
   "outputs": [],
   "source": [
    "# Pandas is standardly imported as pd\n",
    "import pandas as pd"
   ]
  },
  {
   "cell_type": "code",
   "execution_count": 9,
   "metadata": {},
   "outputs": [],
   "source": [
    "# Let's start with an array of data, but we also have a label for each data item\n",
    "dat_1 = np.array(['London', 'Washington', 'London', 'Budapest'])\n",
    "labels = ['Ada', 'Alonzo', 'Alan', 'John']"
   ]
  },
  {
   "cell_type": "code",
   "execution_count": 10,
   "metadata": {},
   "outputs": [],
   "source": [
    "# Pandas offers the 'Series' data object to store 1d data with axis labels\n",
    "pd.Series?"
   ]
  },
  {
   "cell_type": "code",
   "execution_count": 11,
   "metadata": {},
   "outputs": [
    {
     "data": {
      "text/plain": [
       "Ada           London\n",
       "Alonzo    Washington\n",
       "Alan          London\n",
       "John        Budapest\n",
       "dtype: object"
      ]
     },
     "execution_count": 11,
     "metadata": {},
     "output_type": "execute_result"
    }
   ],
   "source": [
    "# Let's make a Series with out data, and check it out\n",
    "ser_1 = pd.Series(dat_1, labels)\n",
    "ser_1.head()"
   ]
  },
  {
   "cell_type": "code",
   "execution_count": 12,
   "metadata": {},
   "outputs": [
    {
     "data": {
      "text/plain": [
       "Ada       36\n",
       "Alonzo    92\n",
       "Alan      41\n",
       "John      53\n",
       "dtype: int64"
      ]
     },
     "execution_count": 12,
     "metadata": {},
     "output_type": "execute_result"
    }
   ],
   "source": [
    "# If we have some different data (with the same labels) we can make another Series\n",
    "dat_2 = [36, 92, 41, 53]\n",
    "ser_2 = pd.Series(dat_2, labels)\n",
    "\n",
    "ser_2.head()"
   ]
  },
  {
   "cell_type": "code",
   "execution_count": 13,
   "metadata": {},
   "outputs": [],
   "source": [
    "# However, having a collection of series can quickly get quite messy\n",
    "#  Pandas therefore offer the dataframe - a powerful data object to store mixed type data with labels\n",
    "pd.DataFrame?"
   ]
  },
  {
   "cell_type": "code",
   "execution_count": 14,
   "metadata": {},
   "outputs": [],
   "source": [
    "# There are several ways to initialize a dataframe\n",
    "#  Here, we provide a dictionary made up of our series\n",
    "df = pd.DataFrame(data={'Col-A': ser_1, 'Col-B':ser_2}, index=labels)"
   ]
  },
  {
   "cell_type": "code",
   "execution_count": 15,
   "metadata": {},
   "outputs": [
    {
     "data": {
      "text/plain": [
       "London        2\n",
       "Washington    1\n",
       "Budapest      1\n",
       "Name: Col-A, dtype: int64"
      ]
     },
     "execution_count": 15,
     "metadata": {},
     "output_type": "execute_result"
    }
   ],
   "source": [
    "# For categorical data, we can check how many of each value there are\n",
    "df['Col-A'].value_counts()"
   ]
  },
  {
   "cell_type": "code",
   "execution_count": 16,
   "metadata": {},
   "outputs": [
    {
     "data": {
      "text/plain": [
       "pandas.core.series.Series"
      ]
     },
     "execution_count": 16,
     "metadata": {},
     "output_type": "execute_result"
    }
   ],
   "source": [
    "# Note that dataframes are actually collections of Series\n",
    "#  When we index the df, as above, we actually pull out a Series\n",
    "#    So, the '.value_counts()' is actually a Series method\n",
    "type(df['Col-A'])"
   ]
  },
  {
   "cell_type": "code",
   "execution_count": 17,
   "metadata": {},
   "outputs": [
    {
     "name": "stderr",
     "output_type": "stream",
     "text": [
      "C:\\Users\\User\\AppData\\Local\\Temp\\ipykernel_26140\\1704418521.py:3: FutureWarning: Dropping of nuisance columns in DataFrame reductions (with 'numeric_only=None') is deprecated; in a future version this will raise TypeError.  Select only valid columns before calling the reduction.\n",
      "  df.mean()\n"
     ]
    },
    {
     "data": {
      "text/plain": [
       "Col-B    55.5\n",
       "dtype: float64"
      ]
     },
     "execution_count": 17,
     "metadata": {},
     "output_type": "execute_result"
    }
   ],
   "source": [
    "# Pandas also gives us tons an ways to directly explore and analyze data in dataframes\n",
    "#  For example, the mean for all numberic data columns\n",
    "df.mean()"
   ]
  },
  {
   "cell_type": "markdown",
   "metadata": {},
   "source": [
    "<div class=\"alert alert-info\">\n",
    "For more practice with pandas, you can try some collections of exercises, including\n",
    "<a href=\"https://github.com/guipsamora/pandas_exercises\" class=\"alert-link\">this one</a>\n",
    "and\n",
    "<a href=\"https://github.com/ajcr/100-pandas-puzzles\" class=\"alert-link\"> this one</a>.\n",
    "</div>"
   ]
  },
  {
   "cell_type": "markdown",
   "metadata": {},
   "source": [
    "<br>\n",
    "<br>\n",
    "<img src=\"img/matplotlib.png\" width=\"500px\">\n",
    "<br>\n",
    "<br>"
   ]
  },
  {
   "cell_type": "markdown",
   "metadata": {},
   "source": [
    "<div class=\"alert alert-success\">\n",
    "Matplotlib is a library for plotting, in particular for 2D plots.\n",
    "</div>\n",
    "\n",
    "<div class=\"alert alert-info\">\n",
    "The official numpy \n",
    "<a href=\"http://matplotlib.org/\" class=\"alert-link\">website</a>\n",
    "includes the official\n",
    "<a href=\"http://matplotlib.org/users/pyplot_tutorial.html\" class=\"alert-link\">tutorial</a>\n",
    "as well as a \n",
    "<a href=\"https://matplotlib.org/gallery.html\" class=\"alert-link\">gallery</a>\n",
    "of examples that you can start from and modify.\n",
    "</div>"
   ]
  },
  {
   "cell_type": "code",
   "execution_count": 18,
   "metadata": {},
   "outputs": [],
   "source": [
    "# This magic command is used to plot all figures inline in the notebook\n",
    "%matplotlib inline"
   ]
  },
  {
   "cell_type": "code",
   "execution_count": 19,
   "metadata": {},
   "outputs": [],
   "source": [
    "# Matplotlib is standardly imported as plt\n",
    "import matplotlib.pyplot as plt"
   ]
  },
  {
   "cell_type": "code",
   "execution_count": 20,
   "metadata": {},
   "outputs": [
    {
     "data": {
      "text/plain": [
       "[<matplotlib.lines.Line2D at 0x202f96b56d0>]"
      ]
     },
     "execution_count": 20,
     "metadata": {},
     "output_type": "execute_result"
    },
    {
     "data": {
      "image/png": "[encoded data removed]",
      "text/plain": [
       "<Figure size 432x288 with 1 Axes>"
      ]
     },
     "metadata": {
      "filenames": {
       "image/png": "C:\\Users\\User\\Desktop\\kiel\\teaching\\seminars\\datascience_in_practice_psyM1_2\\_build\\jupyter_execute\\tutorials\\04-ScientificPython_33_1.png"
      },
      "needs_background": "light"
     },
     "output_type": "display_data"
    }
   ],
   "source": [
    "# Plot a basic line graph\n",
    "plt.plot([1, 2, 3], [4, 6, 8])"
   ]
  },
  {
   "cell_type": "markdown",
   "metadata": {},
   "source": [
    "<div class=\"alert alert-info\">\n",
    "There are also many external materials for using matplotlib, including\n",
    "<a href=\"https://github.com/rougier/matplotlib-tutorial\" class=\"alert-link\">this one</a>.\n",
    "</div>"
   ]
  },
  {
   "cell_type": "markdown",
   "metadata": {},
   "source": [
    "<br>\n",
    "<br>\n",
    "<img src=\"img/sklearn.png\" width=\"250px\">\n",
    "<br>\n",
    "<br>"
   ]
  },
  {
   "cell_type": "markdown",
   "metadata": {},
   "source": [
    "<div class=\"alert alert-success\">\n",
    "Scikit-Learn is a packages for data mining, data analysis, and machine learning. \n",
    "</div>\n",
    "\n",
    "<div class=\"alert alert-info\">\n",
    "Here is the official scikit-learn\n",
    "<a href=\"http://scikit-learn.org/\" class=\"alert-link\">website</a>\n",
    "including their official\n",
    "<a href=\"http://scikit-learn.org/stable/tutorial/basic/tutorial.html\" class=\"alert-link\">tutorial</a>.\n",
    "</div>"
   ]
  },
  {
   "cell_type": "code",
   "execution_count": 21,
   "metadata": {},
   "outputs": [],
   "source": [
    "# Import sklearn\n",
    "import sklearn as skl"
   ]
  },
  {
   "cell_type": "code",
   "execution_count": 22,
   "metadata": {},
   "outputs": [],
   "source": [
    "# Check out module description\n",
    "skl?"
   ]
  },
  {
   "cell_type": "markdown",
   "metadata": {
    "collapsed": true
   },
   "source": [
    "We will get into machine learning and working with sklearn later on in the tutorials."
   ]
  },
  {
   "cell_type": "markdown",
   "metadata": {
    "collapsed": true
   },
   "source": [
    "## External Resources\n",
    "\n",
    "There are many, many resources to learn how to use those packages. \n",
    "\n",
    "The links above include the official documentation and tutorials, which are the best place to start.\n",
    "\n",
    "You can also search google for other resources and exercises."
   ]
  },
  {
   "cell_type": "markdown",
   "metadata": {},
   "source": [
    "<div class=\"alert alert-info\">\n",
    "A particularly good (and free) resource, covering all these tools is the\n",
    "<a href=\"https://github.com/jakevdp/PythonDataScienceHandbook/\" class=\"alert-link\">Data Science Handbook </a>\n",
    "by\n",
    "<a href=\"https://github.com/jakevdp\" class=\"alert-link\">Jake Vanderplas</a>.\n",
    "</div>"
   ]
  }
 ],
 "metadata": {
  "anaconda-cloud": {},
  "kernelspec": {
   "display_name": "Python 3.9.13 64-bit (windows store)",
   "language": "python",
   "name": "python3"
  },
  "language_info": {
   "codemirror_mode": {
    "name": "ipython",
    "version": 3
   },
   "file_extension": ".py",
   "mimetype": "text/x-python",
   "name": "python",
   "nbconvert_exporter": "python",
   "pygments_lexer": "ipython3",
   "version": "3.8.13"
  },
  "vscode": {
   "interpreter": {
    "hash": "23b4a3e8622309bcc6db3d5cc6eb73d60ab98d9ec23bad6a26b709981ccb403a"
   }
  }
 },
 "nbformat": 4,
 "nbformat_minor": 1
}