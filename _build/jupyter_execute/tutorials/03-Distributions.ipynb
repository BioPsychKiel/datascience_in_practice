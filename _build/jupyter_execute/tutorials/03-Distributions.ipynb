{
 "cells": [
  {
   "attachments": {},
   "cell_type": "markdown",
   "metadata": {},
   "source": [
    "# s03: Distributions"
   ]
  },
  {
   "cell_type": "markdown",
   "metadata": {},
   "source": [
    "<div class=\"alert alert-success\">\n",
    "Probability distributions reflect the probabilities of occurence for the possible outcomes of a function / data source. \n",
    "</div>\n",
    "\n",
    "<div class=\"alert alert-info\">\n",
    "Probability distributions on \n",
    "<a href=\"https://en.wikipedia.org/wiki/Probability_distribution\" class=\"alert-link\">wikipedia</a>.\n",
    "If you want a more general refresher on probability / distributions, check out this\n",
    "<a href=\"https://betterexplained.com/articles/a-brief-introduction-to-probability-statistics/\" class=\"alert-link\">article</a>.\n",
    "</div>"
   ]
  },
  {
   "cell_type": "code",
   "execution_count": 1,
   "metadata": {},
   "outputs": [],
   "source": [
    "%matplotlib inline\n",
    "\n",
    "import numpy as np\n",
    "import matplotlib.pyplot as plt"
   ]
  },
  {
   "cell_type": "markdown",
   "metadata": {},
   "source": [
    "## Probability Distributions\n",
    "\n",
    "Typically, given a data source, we want to think about and check what kind of probability distribution our data sample appears to follow. More specifically, we are trying to infer the probability distribution that the data generator follows, asking the question: what function could it be replaced by?\n",
    "\n",
    "Checking the distribution of data is important, as we typically want to apply statistical tests to our data, and many statistical tests come with underlying assumptions about the distributions of the data they are applied to. Ensuring we apply appropriate statistical methodology requires thinking about and checking the distribution of our data. \n",
    "\n",
    "Informally, we can start by visualizing our data, and seeing what 'shape' it takes, and which distribution it appears to follow. More formally, we can statistically test whether a sample of data follows a particular distribution.\n",
    "\n",
    "Here we will start be visualizing some of the most common distributions. `Scipy` (scipy.stats) has code for working with, and generating different distributions. We will generate synthetic data from different underlying distributions, and do a quick survey of how they look, plotting histograms of the generated data. \n",
    "\n",
    "You can use this notebook to explore different parameters to get a feel for these distributions. For further exploration, explore plotting the probability density functions of each distribution. "
   ]
  },
  {
   "cell_type": "markdown",
   "metadata": {},
   "source": [
    "### Uniform Distribution"
   ]
  },
  {
   "cell_type": "markdown",
   "metadata": {},
   "source": [
    "<div class=\"alert alert-success\">\n",
    "A uniform distribution is a distribution in which each possible value is equally probable. \n",
    "</div>\n",
    "\n",
    "<div class=\"alert alert-info\">\n",
    "Uniform distribution on\n",
    "<a href=\"https://en.wikipedia.org/wiki/Uniform_distribution_(continuous)\" class=\"alert-link\">wikipedia</a>.\n",
    "</div>"
   ]
  },
  {
   "cell_type": "code",
   "execution_count": 2,
   "metadata": {},
   "outputs": [],
   "source": [
    "from scipy.stats import uniform"
   ]
  },
  {
   "cell_type": "code",
   "execution_count": 3,
   "metadata": {},
   "outputs": [],
   "source": [
    "data = uniform.rvs(size=10000)"
   ]
  },
  {
   "cell_type": "code",
   "execution_count": 4,
   "metadata": {},
   "outputs": [
    {
     "data": {
      "text/plain": [
       "(array([1047.,  991.,  995., 1004.,  985., 1040.,  985., 1007.,  986.,\n",
       "         960.]),\n",
       " array([1.18283153e-04, 1.00103110e-01, 2.00087937e-01, 3.00072764e-01,\n",
       "        4.00057590e-01, 5.00042417e-01, 6.00027244e-01, 7.00012071e-01,\n",
       "        7.99996897e-01, 8.99981724e-01, 9.99966551e-01]),\n",
       " <BarContainer object of 10 artists>)"
      ]
     },
     "execution_count": 4,
     "metadata": {},
     "output_type": "execute_result"
    },
    {
     "data": {
      "image/png": "[encoded data removed]",
      "text/plain": [
       "<Figure size 640x480 with 1 Axes>"
      ]
     },
     "metadata": {
      "filenames": {
       "image/png": "C:\\Users\\User\\Desktop\\kiel\\teaching\\seminars\\datascience_in_practice_psyM1_2\\_build\\jupyter_execute\\tutorials\\03-Distributions_8_1.png"
      }
     },
     "output_type": "display_data"
    }
   ],
   "source": [
    "plt.hist(data)"
   ]
  },
  {
   "cell_type": "markdown",
   "metadata": {},
   "source": [
    "### Normal Distribution"
   ]
  },
  {
   "cell_type": "markdown",
   "metadata": {},
   "source": [
    "<div class=\"alert alert-success\">\n",
    "The Normal (also Gaussian, or 'Bell Curve') distribution, is a distribution defined by it's mean and standard deviation.\n",
    "</div>\n",
    "\n",
    "<div class=\"alert alert-info\">\n",
    "Normal distribution on \n",
    "<a href=\"https://en.wikipedia.org/wiki/Normal_distribution\" class=\"alert-link\">wikipedia</a>.\n",
    "</div>"
   ]
  },
  {
   "cell_type": "code",
   "execution_count": 5,
   "metadata": {},
   "outputs": [],
   "source": [
    "from scipy.stats import norm"
   ]
  },
  {
   "cell_type": "code",
   "execution_count": 6,
   "metadata": {},
   "outputs": [],
   "source": [
    "data = norm.rvs(size=10000)"
   ]
  },
  {
   "cell_type": "code",
   "execution_count": 7,
   "metadata": {},
   "outputs": [
    {
     "data": {
      "text/plain": [
       "(array([1.000e+00, 9.000e+00, 2.500e+01, 3.700e+01, 1.210e+02, 2.860e+02,\n",
       "        5.040e+02, 8.860e+02, 1.206e+03, 1.463e+03, 1.532e+03, 1.362e+03,\n",
       "        1.107e+03, 7.080e+02, 4.360e+02, 1.820e+02, 9.000e+01, 3.300e+01,\n",
       "        1.100e+01, 1.000e+00]),\n",
       " array([-4.0092327 , -3.61936954, -3.22950637, -2.83964321, -2.44978005,\n",
       "        -2.05991689, -1.67005373, -1.28019057, -0.89032741, -0.50046424,\n",
       "        -0.11060108,  0.27926208,  0.66912524,  1.0589884 ,  1.44885156,\n",
       "         1.83871472,  2.22857788,  2.61844105,  3.00830421,  3.39816737,\n",
       "         3.78803053]),\n",
       " <BarContainer object of 20 artists>)"
      ]
     },
     "execution_count": 7,
     "metadata": {},
     "output_type": "execute_result"
    },
    {
     "data": {
      "image/png": "[encoded data removed]",
      "text/plain": [
       "<Figure size 640x480 with 1 Axes>"
      ]
     },
     "metadata": {
      "filenames": {
       "image/png": "C:\\Users\\User\\Desktop\\kiel\\teaching\\seminars\\datascience_in_practice_psyM1_2\\_build\\jupyter_execute\\tutorials\\03-Distributions_13_1.png"
      }
     },
     "output_type": "display_data"
    }
   ],
   "source": [
    "plt.hist(data, bins=20)"
   ]
  },
  {
   "cell_type": "markdown",
   "metadata": {},
   "source": [
    "### Bernouilli Distribution"
   ]
  },
  {
   "cell_type": "markdown",
   "metadata": {},
   "source": [
    "<div class=\"alert alert-success\">\n",
    "The Bernouilli Distribution is a binary distribution - it takes only two values (0 or 1), with some probably 'p'. \n",
    "</div>\n",
    "\n",
    "<div class=\"alert alert-info\">\n",
    "Bernouilli distribution on wikipedia\n",
    "<a href=\"https://en.wikipedia.org/wiki/Bernoulli_distribution\" class=\"alert-link\">wikipedia</a>.\n",
    "</div>"
   ]
  },
  {
   "cell_type": "code",
   "execution_count": 8,
   "metadata": {},
   "outputs": [],
   "source": [
    "from scipy.stats import bernoulli"
   ]
  },
  {
   "cell_type": "code",
   "execution_count": 9,
   "metadata": {},
   "outputs": [],
   "source": [
    "data = bernoulli.rvs(0.5, size=1000)"
   ]
  },
  {
   "cell_type": "code",
   "execution_count": 10,
   "metadata": {},
   "outputs": [
    {
     "data": {
      "text/plain": [
       "(array([505.,   0.,   0.,   0.,   0.,   0.,   0.,   0.,   0., 495.]),\n",
       " array([0. , 0.1, 0.2, 0.3, 0.4, 0.5, 0.6, 0.7, 0.8, 0.9, 1. ]),\n",
       " <BarContainer object of 10 artists>)"
      ]
     },
     "execution_count": 10,
     "metadata": {},
     "output_type": "execute_result"
    },
    {
     "data": {
      "image/png": "[encoded data removed]",
      "text/plain": [
       "<Figure size 640x480 with 1 Axes>"
      ]
     },
     "metadata": {
      "filenames": {
       "image/png": "C:\\Users\\User\\Desktop\\kiel\\teaching\\seminars\\datascience_in_practice_psyM1_2\\_build\\jupyter_execute\\tutorials\\03-Distributions_18_1.png"
      }
     },
     "output_type": "display_data"
    }
   ],
   "source": [
    "plt.hist(data)"
   ]
  },
  {
   "cell_type": "markdown",
   "metadata": {},
   "source": [
    "### Gamma Distribution"
   ]
  },
  {
   "cell_type": "markdown",
   "metadata": {},
   "source": [
    "<div class=\"alert alert-success\">\n",
    "The Gamma Distribution is continuous probably distribution defined by two parameters.\n",
    "</div>\n",
    "\n",
    "<div class=\"alert alert-info\">\n",
    "Gamma distribution on\n",
    "<a href=\"https://en.wikipedia.org/wiki/Gamma_distribution\" class=\"alert-link\">wikipedia</a>.\n",
    "</div>\n",
    "\n",
    "Given different parameters, gamma distributions can look quite different. Explore different parameters. \n",
    "\n",
    "The exponential distribution is technically a special case of the Gamma Distribution, but is also implemented separately in scipy as 'expon'."
   ]
  },
  {
   "cell_type": "code",
   "execution_count": 11,
   "metadata": {},
   "outputs": [],
   "source": [
    "from scipy.stats import gamma"
   ]
  },
  {
   "cell_type": "code",
   "execution_count": 12,
   "metadata": {},
   "outputs": [],
   "source": [
    "data = gamma.rvs(a=1, size=100000)"
   ]
  },
  {
   "cell_type": "code",
   "execution_count": 13,
   "metadata": {},
   "outputs": [
    {
     "data": {
      "image/png": "[encoded data removed]",
      "text/plain": [
       "<Figure size 640x480 with 1 Axes>"
      ]
     },
     "metadata": {
      "filenames": {
       "image/png": "C:\\Users\\User\\Desktop\\kiel\\teaching\\seminars\\datascience_in_practice_psyM1_2\\_build\\jupyter_execute\\tutorials\\03-Distributions_23_0.png"
      }
     },
     "output_type": "display_data"
    }
   ],
   "source": [
    "plt.hist(data, 50);"
   ]
  },
  {
   "cell_type": "markdown",
   "metadata": {},
   "source": [
    "### Beta Distribution "
   ]
  },
  {
   "cell_type": "markdown",
   "metadata": {},
   "source": [
    "<div class=\"alert alert-success\">\n",
    "The Beta Distribution is a distribution defined on the interval [0, 1], defined by two shape parameters. \n",
    "</div>\n",
    "\n",
    "<div class=\"alert alert-info\">\n",
    "Beta distribution on \n",
    "<a href=\"https://en.wikipedia.org/wiki/Beta_distribution\" class=\"alert-link\">wikipedia</a>.\n",
    "</div>"
   ]
  },
  {
   "cell_type": "code",
   "execution_count": 14,
   "metadata": {},
   "outputs": [],
   "source": [
    "from scipy.stats import beta"
   ]
  },
  {
   "cell_type": "code",
   "execution_count": 15,
   "metadata": {},
   "outputs": [],
   "source": [
    "data = beta.rvs(1,1, size=1000)"
   ]
  },
  {
   "cell_type": "code",
   "execution_count": 16,
   "metadata": {},
   "outputs": [
    {
     "data": {
      "image/png": "[encoded data removed]",
      "text/plain": [
       "<Figure size 640x480 with 1 Axes>"
      ]
     },
     "metadata": {
      "filenames": {
       "image/png": "C:\\Users\\User\\Desktop\\kiel\\teaching\\seminars\\datascience_in_practice_psyM1_2\\_build\\jupyter_execute\\tutorials\\03-Distributions_28_0.png"
      }
     },
     "output_type": "display_data"
    }
   ],
   "source": [
    "plt.hist(data, 50);"
   ]
  },
  {
   "cell_type": "markdown",
   "metadata": {},
   "source": [
    "### Poisson Distribution"
   ]
  },
  {
   "cell_type": "markdown",
   "metadata": {},
   "source": [
    "<div class=\"alert alert-success\">\n",
    "The Poisson Distribution that models events in fixed intervals of time, given a known average rate (and independent occurences).\n",
    "</div>\n",
    "\n",
    "<div class=\"alert alert-info\">\n",
    "Poisson distribution on\n",
    "<a href=\"https://en.wikipedia.org/wiki/Poisson_distribution\" class=\"alert-link\">wikipedia</a>.\n",
    "</div>"
   ]
  },
  {
   "cell_type": "code",
   "execution_count": 17,
   "metadata": {},
   "outputs": [],
   "source": [
    "from scipy.stats import poisson"
   ]
  },
  {
   "cell_type": "code",
   "execution_count": 18,
   "metadata": {},
   "outputs": [],
   "source": [
    "data = poisson.rvs(mu=5, size=100000)"
   ]
  },
  {
   "cell_type": "code",
   "execution_count": 19,
   "metadata": {},
   "outputs": [
    {
     "data": {
      "image/png": "[encoded data removed]",
      "text/plain": [
       "<Figure size 640x480 with 1 Axes>"
      ]
     },
     "metadata": {
      "filenames": {
       "image/png": "C:\\Users\\User\\Desktop\\kiel\\teaching\\seminars\\datascience_in_practice_psyM1_2\\_build\\jupyter_execute\\tutorials\\03-Distributions_33_0.png"
      }
     },
     "output_type": "display_data"
    }
   ],
   "source": [
    "plt.hist(data);"
   ]
  }
 ],
 "metadata": {
  "kernelspec": {
   "display_name": "Python 3.9.13 64-bit (windows store)",
   "language": "python",
   "name": "python3"
  },
  "language_info": {
   "codemirror_mode": {
    "name": "ipython",
    "version": 3
   },
   "file_extension": ".py",
   "mimetype": "text/x-python",
   "name": "python",
   "nbconvert_exporter": "python",
   "pygments_lexer": "ipython3",
   "version": "3.8.13"
  },
  "vscode": {
   "interpreter": {
    "hash": "23b4a3e8622309bcc6db3d5cc6eb73d60ab98d9ec23bad6a26b709981ccb403a"
   }
  }
 },
 "nbformat": 4,
 "nbformat_minor": 2
}